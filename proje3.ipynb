{
  "nbformat": 4,
  "nbformat_minor": 0,
  "metadata": {
    "colab": {
      "provenance": []
    },
    "kernelspec": {
      "name": "python3",
      "display_name": "Python 3"
    },
    "language_info": {
      "name": "python"
    }
  },
  "cells": [
    {
      "cell_type": "markdown",
      "source": [
        "kütüphanelerimiz\n"
      ],
      "metadata": {
        "id": "jDgLxoVkjA6r"
      }
    },
    {
      "cell_type": "code",
      "source": [
        "!pip install tsfresh\n",
        "!pip install sklearn\n",
        "!pip install feature-engine"
      ],
      "metadata": {
        "id": "Jj5aV_nOn_hZ"
      },
      "execution_count": null,
      "outputs": []
    },
    {
      "cell_type": "code",
      "execution_count": 360,
      "metadata": {
        "id": "vhg2VMswd7i4"
      },
      "outputs": [],
      "source": [
        "import yfinance\n",
        "import pandas as pd\n",
        "import requests\n",
        "from bs4 import BeautifulSoup\n",
        "import numpy as np\n",
        "from io import StringIO\n",
        "import os\n",
        "from tsfresh import extract_features\n",
        "import seaborn as sns\n",
        "import matplotlib.pyplot as plt\n",
        "from sklearn.svm import SVC\n",
        "from sklearn.feature_selection import RFE\n",
        "from sklearn.model_selection import train_test_split\n",
        "from sklearn.discriminant_analysis import LinearDiscriminantAnalysis\n",
        "from sklearn.metrics import accuracy_score\n",
        "from sklearn.decomposition import PCA\n",
        "from sklearn.preprocessing import StandardScaler"
      ]
    },
    {
      "cell_type": "markdown",
      "source": [
        "genel fonksiyonlar"
      ],
      "metadata": {
        "id": "b5gV-oNMjElW"
      }
    },
    {
      "cell_type": "code",
      "source": [
        "def fetch_sectors_names():\n",
        "    url = \"https://stockanalysis.com/stocks/industry/sectors/\"\n",
        "    response = requests.get(url)\n",
        "    if response.status_code == 200:\n",
        "        soup = BeautifulSoup(response.content, \"html.parser\")\n",
        "        df = pd.read_html(StringIO(str(soup.find_all(\"table\"))))[0]\n",
        "        return df\n",
        "    else:\n",
        "        print(f\"Error: Failed to fetch data from page {url}\")\n",
        "        return pd.DataFrame()\n",
        "\n",
        "def fetch_industry_names():\n",
        "    url = \"https://stockanalysis.com/stocks/industry/all/\"\n",
        "    response = requests.get(url)\n",
        "    if response.status_code == 200:\n",
        "        soup = BeautifulSoup(response.content, \"html.parser\")\n",
        "        df = pd.read_html(StringIO(str(soup.find_all(\"table\"))))[0]\n",
        "        return df\n",
        "    else:\n",
        "        print(f\"Error: Failed to fetch data from page {url}\")\n",
        "        return pd.DataFrame()\n",
        "\n",
        "def fetch_data(sectors):\n",
        "    url = f\"https://stockanalysis.com/stocks/sector/{sectors}/\"\n",
        "    response = requests.get(url)\n",
        "    if response.status_code == 200:\n",
        "        soup = BeautifulSoup(response.content, \"html.parser\")\n",
        "        df = pd.read_html(str(soup.find_all(\"table\")))[0]\n",
        "        df.drop(columns='No.', inplace=True)\n",
        "        return df\n",
        "    else:\n",
        "        print(f\"Error: Failed to fetch data from page {url}\")\n",
        "        return pd.DataFrame()\n",
        "\n",
        "\n",
        "def get_rolling_ret(data, n):\n",
        "    return data.rolling(n).apply(np.prod)"
      ],
      "metadata": {
        "id": "v71fJXm5eKl0"
      },
      "execution_count": null,
      "outputs": []
    },
    {
      "cell_type": "markdown",
      "source": [
        "istediğimiz sektorler ile çalışma"
      ],
      "metadata": {
        "id": "oiCPeTuagspt"
      }
    },
    {
      "cell_type": "code",
      "source": [
        "dosya_yolu = [ 'stock_sectors/financials.csv', 'stock_sectors/healthcare.csv', 'stock_sectors/technology.csv' ]\n",
        "sektor = [ 'financials', 'healthcare', 'technology' ]"
      ],
      "metadata": {
        "id": "skDl7v7FfQGl"
      },
      "execution_count": 274,
      "outputs": []
    },
    {
      "cell_type": "markdown",
      "source": [
        "yukarıda belirtilen dosya ve dosya yolları ile veriyi çeken kod"
      ],
      "metadata": {
        "id": "HalobX--g_5g"
      }
    },
    {
      "cell_type": "code",
      "source": [
        "for i in range(0,len(dosya_yolu)):\n",
        "  if os.path.exists(dosya_yolu[i])==False:\n",
        "    fetch_data(sectors=sektor[i]).to_csv(f'{dosya_yolu[i]}')"
      ],
      "metadata": {
        "id": "Vyt-ixuueaOw"
      },
      "execution_count": null,
      "outputs": []
    },
    {
      "cell_type": "markdown",
      "source": [
        "sektorlerin tagleri"
      ],
      "metadata": {
        "id": "haJbjBYYhOH7"
      }
    },
    {
      "cell_type": "code",
      "source": [
        "sektor_tag = [\"f\",\"h\",\"t\"]"
      ],
      "metadata": {
        "id": "sOp3khUJfGlr"
      },
      "execution_count": null,
      "outputs": []
    },
    {
      "cell_type": "markdown",
      "source": [
        "ihtiyacımız olan verileri hem indirip hem de veri temizliği yapan kısım bazı gereksiz işler yapmışım sonradan kullanmadığım yerler oldu"
      ],
      "metadata": {
        "id": "mJXeAhaYivoA"
      }
    },
    {
      "cell_type": "code",
      "source": [
        "for x in range (0,len(dosya_yolu)):\n",
        "    veriler = pd.read_csv(f\"{dosya_yolu[x]}\")\n",
        "    data = yfinance.download(list(veriler.Symbol.dropna()), start='2005-01-01')\n",
        "    data_close=data['Adj Close'].resample('M').last().pct_change()+1\n",
        "\n",
        "    lst1,lst2,lst3,lst4 = [],[],[],[]\n",
        "    veri2 = pd.DataFrame()\n",
        "\n",
        "    for i in range(0,len(data_close.columns)):\n",
        "        lst = []\n",
        "        veri1 = data_close.iloc[:,i:i+1]\n",
        "        for a in range(0,len(veri1)):\n",
        "            lst.append(data_close.columns[i])\n",
        "        veri1.loc[:,\"id\"] = lst\n",
        "        veri1.columns = [\"close\",\"id\"]\n",
        "        veri2 = pd.concat([veri2,veri1],axis=0)\n",
        "\n",
        "    veri3 = get_rolling_ret(data_close, 3).melt()\n",
        "    for i in range(0,len(veri3)):\n",
        "      lst3.append(veri3.iloc[i:i+1].values)\n",
        "\n",
        "    for i in range(0,len(lst3)):\n",
        "      lst4.append(lst3[i][0][1])\n",
        "    for i in range(0,len(veri2)):\n",
        "        lst2.append(f\"{sektor[x]}\")\n",
        "    veri2.loc[:,\"momentum\"] = lst4\n",
        "    veri2.loc[:,\"sektor\"] = lst2\n",
        "    veri2 = veri2.dropna()\n",
        "    veri2.to_csv(f'data/{sektor_tag[x]}.csv')"
      ],
      "metadata": {
        "id": "4nva5j_4hQnc"
      },
      "execution_count": null,
      "outputs": []
    },
    {
      "cell_type": "markdown",
      "source": [
        "tsfresh uygulama kısmı"
      ],
      "metadata": {
        "id": "fpaXn6KBnu0i"
      }
    },
    {
      "cell_type": "code",
      "source": [
        "if __name__ == '__main__':\n",
        "    finance = pd.read_csv(\"data/f.csv\")\n",
        "    health = pd.read_csv(\"data/h.csv\")\n",
        "    technology = pd.read_csv(\"data/t.csv\")\n",
        "    i = 10000\n",
        "    df = pd.concat([finance.iloc[:i], health.iloc[:i], technology.iloc[:i]])\n",
        "\n",
        "\n",
        "    print(len(df))\n",
        "    date = df.iloc[:,0:1]\n",
        "    close = df.iloc[:,1:2]\n",
        "    id = df.iloc[:,2:3]\n",
        "    momentum = df.iloc[:,3:4]\n",
        "    sektor = df.iloc[:,4:5]\n",
        "    df = pd.concat([date,close,momentum,id],axis=1)\n",
        "    exf = extract_features(df, column_id='id', column_sort='Date', n_jobs=1, chunksize=1000)\n",
        "    exf.to_csv(\"data/tsfresh.csv\")\n",
        "    print(exf.dropna())"
      ],
      "metadata": {
        "id": "2ZLnyk9Ynqmi",
        "colab": {
          "base_uri": "https://localhost:8080/"
        },
        "outputId": "4e8d9a4a-a5f1-48d8-d92c-87b968e12d26"
      },
      "execution_count": 259,
      "outputs": [
        {
          "output_type": "stream",
          "name": "stderr",
          "text": [
            "WARNING:tsfresh.feature_extraction.settings:Dependency not available for matrix_profile, this feature will be disabled!\n"
          ]
        },
        {
          "output_type": "stream",
          "name": "stdout",
          "text": [
            "30000\n"
          ]
        },
        {
          "output_type": "stream",
          "name": "stderr",
          "text": [
            "Feature Extraction: 100%|██████████| 1/1 [00:52<00:00, 52.30s/it]\n"
          ]
        },
        {
          "output_type": "stream",
          "name": "stdout",
          "text": [
            "Empty DataFrame\n",
            "Columns: [close__variance_larger_than_standard_deviation, close__has_duplicate_max, close__has_duplicate_min, close__has_duplicate, close__sum_values, close__abs_energy, close__mean_abs_change, close__mean_change, close__mean_second_derivative_central, close__median, close__mean, close__length, close__standard_deviation, close__variation_coefficient, close__variance, close__skewness, close__kurtosis, close__root_mean_square, close__absolute_sum_of_changes, close__longest_strike_below_mean, close__longest_strike_above_mean, close__count_above_mean, close__count_below_mean, close__last_location_of_maximum, close__first_location_of_maximum, close__last_location_of_minimum, close__first_location_of_minimum, close__percentage_of_reoccurring_values_to_all_values, close__percentage_of_reoccurring_datapoints_to_all_datapoints, close__sum_of_reoccurring_values, close__sum_of_reoccurring_data_points, close__ratio_value_number_to_time_series_length, close__sample_entropy, close__maximum, close__absolute_maximum, close__minimum, close__benford_correlation, close__time_reversal_asymmetry_statistic__lag_1, close__time_reversal_asymmetry_statistic__lag_2, close__time_reversal_asymmetry_statistic__lag_3, close__c3__lag_1, close__c3__lag_2, close__c3__lag_3, close__cid_ce__normalize_True, close__cid_ce__normalize_False, close__symmetry_looking__r_0.0, close__symmetry_looking__r_0.05, close__symmetry_looking__r_0.1, close__symmetry_looking__r_0.15000000000000002, close__symmetry_looking__r_0.2, close__symmetry_looking__r_0.25, close__symmetry_looking__r_0.30000000000000004, close__symmetry_looking__r_0.35000000000000003, close__symmetry_looking__r_0.4, close__symmetry_looking__r_0.45, close__symmetry_looking__r_0.5, close__symmetry_looking__r_0.55, close__symmetry_looking__r_0.6000000000000001, close__symmetry_looking__r_0.65, close__symmetry_looking__r_0.7000000000000001, close__symmetry_looking__r_0.75, close__symmetry_looking__r_0.8, close__symmetry_looking__r_0.8500000000000001, close__symmetry_looking__r_0.9, close__symmetry_looking__r_0.9500000000000001, close__large_standard_deviation__r_0.05, close__large_standard_deviation__r_0.1, close__large_standard_deviation__r_0.15000000000000002, close__large_standard_deviation__r_0.2, close__large_standard_deviation__r_0.25, close__large_standard_deviation__r_0.30000000000000004, close__large_standard_deviation__r_0.35000000000000003, close__large_standard_deviation__r_0.4, close__large_standard_deviation__r_0.45, close__large_standard_deviation__r_0.5, close__large_standard_deviation__r_0.55, close__large_standard_deviation__r_0.6000000000000001, close__large_standard_deviation__r_0.65, close__large_standard_deviation__r_0.7000000000000001, close__large_standard_deviation__r_0.75, close__large_standard_deviation__r_0.8, close__large_standard_deviation__r_0.8500000000000001, close__large_standard_deviation__r_0.9, close__large_standard_deviation__r_0.9500000000000001, close__quantile__q_0.1, close__quantile__q_0.2, close__quantile__q_0.3, close__quantile__q_0.4, close__quantile__q_0.6, close__quantile__q_0.7, close__quantile__q_0.8, close__quantile__q_0.9, close__autocorrelation__lag_0, close__autocorrelation__lag_1, close__autocorrelation__lag_2, close__autocorrelation__lag_3, close__autocorrelation__lag_4, close__autocorrelation__lag_5, close__autocorrelation__lag_6, close__autocorrelation__lag_7, ...]\n",
            "Index: []\n",
            "\n",
            "[0 rows x 1566 columns]\n"
          ]
        }
      ]
    },
    {
      "cell_type": "markdown",
      "source": [
        "gereksiz featurelarımızı temizleyeceğiz."
      ],
      "metadata": {
        "id": "tvY1vNBE0Wi3"
      }
    },
    {
      "cell_type": "code",
      "source": [
        "df = pd.read_csv(\"data/tsfresh.csv\")\n",
        "print(len(df.columns))\n",
        "silinecek_kolonlar = []\n",
        "for i in range(0,len(df.columns)):\n",
        "  if df.iloc[0:1,i:i+1].values == df.iloc[1:2,i:i+1].values == df.iloc[2:3,i:i+1].values or df.iloc[0:3,i:i+1].isna().all().values  :\n",
        "    silinecek_kolonlar.append(i)\n",
        "print(silinecek_kolonlar)\n",
        "df.drop(df.columns[silinecek_kolonlar], axis=1, inplace=True)\n",
        "print(len(df.columns))\n",
        "df.to_csv(\"data/bosverilersilindi.csv\")"
      ],
      "metadata": {
        "id": "Rfcpc-Pj0VmL"
      },
      "execution_count": null,
      "outputs": []
    },
    {
      "cell_type": "markdown",
      "source": [
        "son sütuna sektor bilgilerini giriyoruz"
      ],
      "metadata": {
        "id": "gg6jTudn9s4s"
      }
    },
    {
      "cell_type": "code",
      "source": [
        "df = pd.read_csv(\"data/bosverilersilindi.csv\")\n",
        "finance = pd.read_csv(\"data/f.csv\")\n",
        "health = pd.read_csv(\"data/h.csv\")\n",
        "technology = pd.read_csv(\"data/t.csv\")\n",
        "\n",
        "lst = []\n",
        "for i in range(0,len(df)):\n",
        "\n",
        "  if df.iloc[i:i+1,1:2].values in finance.id.values:\n",
        "    lst.append(\"f\")\n",
        "  if df.iloc[i:i+1,1:2].values in health.id.values:\n",
        "    lst.append(\"h\")\n",
        "  if df.iloc[i:i+1,1:2].values in technology.id.values:\n",
        "    lst.append(\"t\")\n",
        "df.loc[:,\"sektor\"] = lst\n",
        "df = df.iloc[:,2:]\n",
        "df = df.fillna(0)\n",
        "df.to_csv(\"data/hazirveri.csv\")\n",
        "\n"
      ],
      "metadata": {
        "id": "MOoi5Sp-RweI"
      },
      "execution_count": 308,
      "outputs": []
    },
    {
      "cell_type": "markdown",
      "source": [
        "gereksiz verileri temizlemeyi yaptığımız kod bloğu"
      ],
      "metadata": {
        "id": "tm1ugGEzDoAm"
      }
    },
    {
      "cell_type": "code",
      "source": [
        "df = pd.read_csv(\"data/hazirveri.csv\")\n",
        "df = df.iloc[:,1:]\n",
        "x = df.iloc[:,0:1453]\n",
        "y = df.iloc[:,1453:]\n",
        "from sklearn.pipeline import Pipeline\n",
        "X_train, X_test, y_train, y_test = train_test_split(x,y,test_size=0.3, random_state=0)\n",
        "from feature_engine.selection import SmartCorrelatedSelection\n",
        "from sklearn.ensemble import RandomForestClassifier\n",
        "\n",
        "selector=SmartCorrelatedSelection(method='pearson', threshold=0.90,\n",
        "                                  selection_method='model_performance',\n",
        "                                  estimator=RandomForestClassifier(random_state=0),\n",
        "                                  scoring='f1_macro',\n",
        "                                  cv=5,\n",
        "                                 )\n",
        "selector.fit(X_train, y_train.to_numpy().ravel())\n",
        "selector.transform(X_train)\n",
        "\n",
        "print(f'Korelasyonu yuksek olan degiskenler : \\n {selector.correlated_feature_sets_}')\n",
        "print(f'Ciakrtilan degiskenler : \\n {selector.features_to_drop_}')\n",
        "drops = selector.features_to_drop_\n",
        "df.drop(columns=drops,inplace=True)\n",
        "df.to_csv(\"data/droped.csv\")"
      ],
      "metadata": {
        "colab": {
          "base_uri": "https://localhost:8080/"
        },
        "id": "sfJ2H8OcVGXU",
        "outputId": "b069f5f0-1586-4d9e-f7da-06ce59762015"
      },
      "execution_count": 332,
      "outputs": [
        {
          "output_type": "stream",
          "name": "stdout",
          "text": [
            "Korelasyonu yuksek olan degiskenler : \n",
            " [{'close__fft_coefficient__attr_\"imag\"__coeff_97', 'momentum__agg_linear_trend__attr_\"slope\"__chunk_len_5__f_agg_\"var\"', 'momentum__fft_coefficient__attr_\"real\"__coeff_64', 'momentum__fft_coefficient__attr_\"real\"__coeff_70', 'momentum__fft_coefficient__attr_\"real\"__coeff_76', 'close__fft_coefficient__attr_\"imag\"__coeff_67', 'close__fft_coefficient__attr_\"abs\"__coeff_93', 'momentum__fft_coefficient__attr_\"abs\"__coeff_12', 'momentum__fft_coefficient__attr_\"real\"__coeff_14', 'close__fft_coefficient__attr_\"real\"__coeff_54', 'momentum__fft_coefficient__attr_\"abs\"__coeff_76', 'momentum__fft_coefficient__attr_\"imag\"__coeff_1', 'close__fft_coefficient__attr_\"abs\"__coeff_26', 'close__fft_coefficient__attr_\"abs\"__coeff_29', 'momentum__fft_coefficient__attr_\"real\"__coeff_30', 'close__fft_coefficient__attr_\"abs\"__coeff_96', 'close__fft_coefficient__attr_\"real\"__coeff_28', 'close__fft_coefficient__attr_\"real\"__coeff_56', 'close__agg_linear_trend__attr_\"stderr\"__chunk_len_50__f_agg_\"var\"', 'close__mean', 'momentum__fft_coefficient__attr_\"imag\"__coeff_50', 'close__agg_linear_trend__attr_\"intercept\"__chunk_len_5__f_agg_\"max\"', 'close__fft_coefficient__attr_\"real\"__coeff_36', 'momentum__fft_coefficient__attr_\"real\"__coeff_67', 'close__fft_coefficient__attr_\"imag\"__coeff_74', 'close__fft_coefficient__attr_\"real\"__coeff_6', 'close__fft_coefficient__attr_\"imag\"__coeff_44', 'momentum__fft_coefficient__attr_\"abs\"__coeff_2', 'close__agg_linear_trend__attr_\"stderr\"__chunk_len_10__f_agg_\"max\"', 'close__fft_coefficient__attr_\"real\"__coeff_39', 'momentum__fft_coefficient__attr_\"abs\"__coeff_8', 'close__change_quantiles__f_agg_\"var\"__isabs_False__qh_1.0__ql_0.0', 'close__fft_coefficient__attr_\"abs\"__coeff_88', 'momentum__spkt_welch_density__coeff_2', 'close__agg_linear_trend__attr_\"slope\"__chunk_len_5__f_agg_\"var\"', 'momentum__fft_coefficient__attr_\"imag\"__coeff_18', 'momentum__agg_linear_trend__attr_\"intercept\"__chunk_len_10__f_agg_\"max\"', 'momentum__fft_coefficient__attr_\"imag\"__coeff_24', 'close__change_quantiles__f_agg_\"var\"__isabs_False__qh_1.0__ql_0.4', 'momentum__agg_linear_trend__attr_\"intercept\"__chunk_len_10__f_agg_\"var\"', 'close__fft_coefficient__attr_\"real\"__coeff_68', 'close__fft_coefficient__attr_\"imag\"__coeff_42', 'close__fft_coefficient__attr_\"real\"__coeff_61', 'momentum__agg_linear_trend__attr_\"stderr\"__chunk_len_10__f_agg_\"var\"', 'close__fft_coefficient__attr_\"abs\"__coeff_22', 'momentum__spkt_welch_density__coeff_5', 'close__fft_coefficient__attr_\"real\"__coeff_89', 'momentum__fft_coefficient__attr_\"imag\"__coeff_73', 'momentum__fft_coefficient__attr_\"abs\"__coeff_43', 'momentum__fft_coefficient__attr_\"abs\"__coeff_16', 'close__fft_coefficient__attr_\"abs\"__coeff_35', 'close__fft_coefficient__attr_\"abs\"__coeff_85', 'momentum__fft_coefficient__attr_\"real\"__coeff_73', 'momentum__fft_coefficient__attr_\"abs\"__coeff_29', 'momentum__fft_coefficient__attr_\"abs\"__coeff_33', 'close__c3__lag_3', 'momentum__fft_coefficient__attr_\"abs\"__coeff_97', 'close__fft_coefficient__attr_\"abs\"__coeff_2', 'momentum__fft_coefficient__attr_\"real\"__coeff_13', 'momentum__fft_coefficient__attr_\"abs\"__coeff_89', 'close__fft_coefficient__attr_\"real\"__coeff_17', 'momentum__fft_coefficient__attr_\"real\"__coeff_84', 'momentum__linear_trend__attr_\"intercept\"', 'close__fft_coefficient__attr_\"abs\"__coeff_34', 'close__spkt_welch_density__coeff_8', 'momentum__fft_coefficient__attr_\"imag\"__coeff_96', 'momentum__fft_coefficient__attr_\"real\"__coeff_51', 'momentum__fft_coefficient__attr_\"imag\"__coeff_48', 'momentum__fft_coefficient__attr_\"abs\"__coeff_85', 'momentum__fft_coefficient__attr_\"abs\"__coeff_15', 'momentum__change_quantiles__f_agg_\"var\"__isabs_False__qh_1.0__ql_0.2', 'momentum__fft_coefficient__attr_\"abs\"__coeff_11', 'momentum__fft_coefficient__attr_\"real\"__coeff_78', 'close__fft_coefficient__attr_\"real\"__coeff_1', 'close__fft_coefficient__attr_\"imag\"__coeff_5', 'close__fft_coefficient__attr_\"abs\"__coeff_49', 'close__fft_coefficient__attr_\"imag\"__coeff_66', 'momentum__fft_coefficient__attr_\"abs\"__coeff_1', 'momentum__fft_coefficient__attr_\"real\"__coeff_63', 'close__change_quantiles__f_agg_\"mean\"__isabs_True__qh_1.0__ql_0.0', 'momentum__fft_coefficient__attr_\"abs\"__coeff_72', 'close__fft_coefficient__attr_\"abs\"__coeff_89', 'close__fft_coefficient__attr_\"abs\"__coeff_0', 'close__fft_coefficient__attr_\"abs\"__coeff_98', 'close__fft_coefficient__attr_\"imag\"__coeff_46', 'close__fft_coefficient__attr_\"imag\"__coeff_25', 'close__fft_coefficient__attr_\"abs\"__coeff_61', 'momentum__fft_coefficient__attr_\"imag\"__coeff_19', 'close__fft_coefficient__attr_\"abs\"__coeff_99', 'momentum__fft_coefficient__attr_\"abs\"__coeff_21', 'close__fft_coefficient__attr_\"abs\"__coeff_68', 'momentum__fft_coefficient__attr_\"abs\"__coeff_58', 'close__fft_coefficient__attr_\"abs\"__coeff_84', 'momentum__fft_coefficient__attr_\"imag\"__coeff_7', 'close__change_quantiles__f_agg_\"var\"__isabs_True__qh_1.0__ql_0.6', 'close__fft_coefficient__attr_\"abs\"__coeff_59', 'momentum__fft_coefficient__attr_\"abs\"__coeff_73', 'momentum__fft_coefficient__attr_\"abs\"__coeff_93', 'close__fft_coefficient__attr_\"imag\"__coeff_59', 'close__time_reversal_asymmetry_statistic__lag_1', 'close__fft_coefficient__attr_\"imag\"__coeff_29', 'momentum__fft_coefficient__attr_\"imag\"__coeff_90', 'close__fft_coefficient__attr_\"abs\"__coeff_12', 'close__fft_coefficient__attr_\"imag\"__coeff_70', 'close__fft_coefficient__attr_\"imag\"__coeff_87', 'momentum__fft_coefficient__attr_\"imag\"__coeff_59', 'close__fft_coefficient__attr_\"abs\"__coeff_67', 'momentum__fft_coefficient__attr_\"abs\"__coeff_53', 'momentum__fft_coefficient__attr_\"abs\"__coeff_56', 'close__fft_coefficient__attr_\"abs\"__coeff_6', 'close__fft_coefficient__attr_\"abs\"__coeff_97', 'momentum__fft_coefficient__attr_\"imag\"__coeff_66', 'momentum__fft_coefficient__attr_\"real\"__coeff_40', 'momentum__fft_coefficient__attr_\"abs\"__coeff_63', 'momentum__mean_abs_change', 'close__fft_coefficient__attr_\"abs\"__coeff_14', 'close__fft_coefficient__attr_\"real\"__coeff_3', 'momentum__fft_coefficient__attr_\"real\"__coeff_94', 'close__fft_coefficient__attr_\"imag\"__coeff_31', 'momentum__fft_coefficient__attr_\"real\"__coeff_65', 'close__fft_coefficient__attr_\"abs\"__coeff_69', 'momentum__fft_coefficient__attr_\"abs\"__coeff_5', 'close__standard_deviation', 'momentum__fft_coefficient__attr_\"real\"__coeff_28', 'momentum__fft_coefficient__attr_\"imag\"__coeff_12', 'close__fft_coefficient__attr_\"real\"__coeff_5', 'momentum__spkt_welch_density__coeff_8', 'close__fft_coefficient__attr_\"imag\"__coeff_71', 'close__fft_coefficient__attr_\"real\"__coeff_48', 'momentum__fft_coefficient__attr_\"real\"__coeff_42', 'close__fft_coefficient__attr_\"abs\"__coeff_53', 'momentum__fft_coefficient__attr_\"real\"__coeff_71', 'momentum__fft_coefficient__attr_\"imag\"__coeff_92', 'momentum__fft_coefficient__attr_\"abs\"__coeff_75', 'close__fft_coefficient__attr_\"imag\"__coeff_32', 'momentum__fft_coefficient__attr_\"real\"__coeff_44', 'momentum__variance', 'close__fft_coefficient__attr_\"abs\"__coeff_28', 'momentum__standard_deviation', 'momentum__fft_coefficient__attr_\"real\"__coeff_81', 'momentum__fft_coefficient__attr_\"real\"__coeff_39', 'close__fft_coefficient__attr_\"imag\"__coeff_47', 'close__agg_linear_trend__attr_\"slope\"__chunk_len_10__f_agg_\"var\"', 'close__fft_coefficient__attr_\"abs\"__coeff_80', 'momentum__change_quantiles__f_agg_\"mean\"__isabs_False__qh_1.0__ql_0.4', 'momentum__fft_coefficient__attr_\"imag\"__coeff_40', 'momentum__fft_coefficient__attr_\"abs\"__coeff_91', 'close__fft_coefficient__attr_\"imag\"__coeff_69', 'momentum__fft_coefficient__attr_\"abs\"__coeff_27', 'close__fft_coefficient__attr_\"abs\"__coeff_20', 'close__fft_coefficient__attr_\"imag\"__coeff_57', 'close__fft_coefficient__attr_\"abs\"__coeff_40', 'momentum__fft_coefficient__attr_\"imag\"__coeff_32', 'close__fft_coefficient__attr_\"abs\"__coeff_75', 'close__agg_linear_trend__attr_\"intercept\"__chunk_len_50__f_agg_\"mean\"', 'momentum__fft_coefficient__attr_\"abs\"__coeff_46', 'momentum__fft_coefficient__attr_\"imag\"__coeff_21', 'momentum__fft_coefficient__attr_\"imag\"__coeff_70', 'close__fft_coefficient__attr_\"abs\"__coeff_50', 'momentum__fft_coefficient__attr_\"imag\"__coeff_86', 'momentum__mean_n_absolute_max__number_of_maxima_7', 'momentum__fft_coefficient__attr_\"real\"__coeff_9', 'momentum__fft_coefficient__attr_\"real\"__coeff_33', 'momentum__fft_coefficient__attr_\"real\"__coeff_17', 'close__fft_coefficient__attr_\"real\"__coeff_10', 'close__fft_coefficient__attr_\"real\"__coeff_51', 'close__fft_coefficient__attr_\"real\"__coeff_34', 'momentum__fft_coefficient__attr_\"real\"__coeff_34', 'close__fft_coefficient__attr_\"abs\"__coeff_81', 'momentum__fft_coefficient__attr_\"real\"__coeff_24', 'momentum__fft_coefficient__attr_\"real\"__coeff_83', 'momentum__fft_coefficient__attr_\"imag\"__coeff_65', 'close__fft_coefficient__attr_\"real\"__coeff_25', 'close__change_quantiles__f_agg_\"var\"__isabs_True__qh_1.0__ql_0.4', 'close__fft_coefficient__attr_\"imag\"__coeff_1', 'momentum__fft_coefficient__attr_\"abs\"__coeff_18', 'momentum__fft_coefficient__attr_\"abs\"__coeff_22', 'close__absolute_maximum', 'momentum__agg_linear_trend__attr_\"intercept\"__chunk_len_10__f_agg_\"mean\"', 'momentum__change_quantiles__f_agg_\"var\"__isabs_True__qh_1.0__ql_0.6', 'close__fft_coefficient__attr_\"abs\"__coeff_58', 'close__fft_coefficient__attr_\"real\"__coeff_82', 'momentum__fft_coefficient__attr_\"abs\"__coeff_66', 'close__fft_coefficient__attr_\"real\"__coeff_67', 'momentum__fft_coefficient__attr_\"real\"__coeff_16', 'close__fft_coefficient__attr_\"abs\"__coeff_63', 'close__fft_coefficient__attr_\"imag\"__coeff_23', 'close__fft_coefficient__attr_\"real\"__coeff_90', 'momentum__variation_coefficient', 'close__fft_coefficient__attr_\"abs\"__coeff_55', 'close__fft_coefficient__attr_\"imag\"__coeff_6', 'momentum__fft_coefficient__attr_\"imag\"__coeff_54', 'momentum__fft_coefficient__attr_\"abs\"__coeff_83', 'close__fft_coefficient__attr_\"real\"__coeff_15', 'momentum__fft_coefficient__attr_\"real\"__coeff_68', 'close__agg_linear_trend__attr_\"stderr\"__chunk_len_50__f_agg_\"mean\"', 'momentum__fft_coefficient__attr_\"imag\"__coeff_17', 'momentum__fft_coefficient__attr_\"imag\"__coeff_60', 'close__fft_coefficient__attr_\"abs\"__coeff_16', 'momentum__fft_coefficient__attr_\"imag\"__coeff_69', 'momentum__fft_coefficient__attr_\"abs\"__coeff_6', 'close__fft_coefficient__attr_\"imag\"__coeff_65', 'close__fft_coefficient__attr_\"abs\"__coeff_65', 'momentum__fft_coefficient__attr_\"imag\"__coeff_82', 'close__fft_coefficient__attr_\"real\"__coeff_73', 'close__variance', 'momentum__fft_coefficient__attr_\"abs\"__coeff_31', 'close__agg_linear_trend__attr_\"intercept\"__chunk_len_10__f_agg_\"var\"', 'close__fft_coefficient__attr_\"imag\"__coeff_90', 'close__fft_coefficient__attr_\"abs\"__coeff_46', 'momentum__c3__lag_1', 'momentum__fft_coefficient__attr_\"imag\"__coeff_44', 'momentum__abs_energy', 'momentum__fft_coefficient__attr_\"abs\"__coeff_65', 'close__fft_coefficient__attr_\"imag\"__coeff_38', 'close__abs_energy', 'close__fft_coefficient__attr_\"imag\"__coeff_60', 'close__agg_linear_trend__attr_\"stderr\"__chunk_len_5__f_agg_\"var\"', 'momentum__cid_ce__normalize_False', 'close__fft_coefficient__attr_\"imag\"__coeff_58', 'close__fft_coefficient__attr_\"imag\"__coeff_4', 'momentum__fft_coefficient__attr_\"imag\"__coeff_4', 'momentum__fft_coefficient__attr_\"abs\"__coeff_78', 'momentum__fft_coefficient__attr_\"abs\"__coeff_86', 'close__fft_coefficient__attr_\"abs\"__coeff_92', 'momentum__fft_coefficient__attr_\"abs\"__coeff_74', 'close__fft_coefficient__attr_\"abs\"__coeff_71', 'momentum__fft_coefficient__attr_\"real\"__coeff_45', 'momentum__fft_coefficient__attr_\"abs\"__coeff_52', 'momentum__fft_coefficient__attr_\"abs\"__coeff_42', 'momentum__fft_coefficient__attr_\"real\"__coeff_7', 'momentum__agg_linear_trend__attr_\"stderr\"__chunk_len_50__f_agg_\"var\"', 'close__fft_coefficient__attr_\"real\"__coeff_46', 'momentum__fft_coefficient__attr_\"imag\"__coeff_34', 'momentum__fft_coefficient__attr_\"imag\"__coeff_63', 'momentum__fft_coefficient__attr_\"real\"__coeff_95', 'momentum__fft_coefficient__attr_\"real\"__coeff_52', 'momentum__agg_linear_trend__attr_\"stderr\"__chunk_len_50__f_agg_\"max\"', 'close__fft_coefficient__attr_\"imag\"__coeff_15', 'close__fft_coefficient__attr_\"real\"__coeff_16', 'momentum__fft_coefficient__attr_\"imag\"__coeff_29', 'close__fft_coefficient__attr_\"imag\"__coeff_40', 'close__fft_coefficient__attr_\"imag\"__coeff_93', 'momentum__fft_coefficient__attr_\"imag\"__coeff_22', 'close__fft_coefficient__attr_\"real\"__coeff_9', 'momentum__fft_coefficient__attr_\"abs\"__coeff_0', 'close__maximum', 'momentum__maximum', 'close__fft_coefficient__attr_\"imag\"__coeff_22', 'momentum__fft_coefficient__attr_\"abs\"__coeff_94', 'close__fft_coefficient__attr_\"imag\"__coeff_28', 'close__fft_coefficient__attr_\"abs\"__coeff_9', 'momentum__agg_linear_trend__attr_\"intercept\"__chunk_len_5__f_agg_\"mean\"', 'close__fft_coefficient__attr_\"imag\"__coeff_3', 'close__fft_coefficient__attr_\"real\"__coeff_11', 'momentum__change_quantiles__f_agg_\"mean\"__isabs_False__qh_1.0__ql_0.6', 'momentum__fft_coefficient__attr_\"abs\"__coeff_10', 'close__fft_coefficient__attr_\"abs\"__coeff_43', 'momentum__fft_coefficient__attr_\"real\"__coeff_3', 'close__fft_coefficient__attr_\"real\"__coeff_66', 'close__fft_coefficient__attr_\"imag\"__coeff_83', 'close__fft_coefficient__attr_\"abs\"__coeff_48', 'momentum__fft_coefficient__attr_\"imag\"__coeff_61', 'momentum__fft_coefficient__attr_\"abs\"__coeff_32', 'close__root_mean_square', 'close__fft_coefficient__attr_\"imag\"__coeff_79', 'close__fft_coefficient__attr_\"abs\"__coeff_30', 'close__fft_coefficient__attr_\"real\"__coeff_55', 'momentum__fft_coefficient__attr_\"imag\"__coeff_52', 'momentum__fft_coefficient__attr_\"abs\"__coeff_98', 'momentum__fft_coefficient__attr_\"abs\"__coeff_25', 'momentum__fft_coefficient__attr_\"real\"__coeff_87', 'momentum__fft_coefficient__attr_\"imag\"__coeff_14', 'close__fft_coefficient__attr_\"imag\"__coeff_98', 'close__fft_coefficient__attr_\"abs\"__coeff_87', 'momentum__fft_coefficient__attr_\"imag\"__coeff_72', 'close__fft_coefficient__attr_\"real\"__coeff_87', 'close__fft_coefficient__attr_\"imag\"__coeff_95', 'momentum__fft_coefficient__attr_\"real\"__coeff_41', 'momentum__fft_coefficient__attr_\"abs\"__coeff_54', 'momentum__fft_coefficient__attr_\"real\"__coeff_74', 'momentum__fft_coefficient__attr_\"imag\"__coeff_46', 'close__fft_coefficient__attr_\"imag\"__coeff_14', 'close__fft_coefficient__attr_\"imag\"__coeff_89', 'momentum__fft_coefficient__attr_\"abs\"__coeff_35', 'close__change_quantiles__f_agg_\"mean\"__isabs_True__qh_1.0__ql_0.4', 'momentum__fft_coefficient__attr_\"imag\"__coeff_27', 'close__c3__lag_2', 'close__fft_coefficient__attr_\"abs\"__coeff_15', 'close__fft_coefficient__attr_\"abs\"__coeff_38', 'momentum__fft_coefficient__attr_\"imag\"__coeff_55', 'momentum__fft_coefficient__attr_\"real\"__coeff_80', 'momentum__fft_coefficient__attr_\"abs\"__coeff_67', 'momentum__fft_coefficient__attr_\"real\"__coeff_2', 'momentum__fft_coefficient__attr_\"abs\"__coeff_47', 'close__fft_coefficient__attr_\"imag\"__coeff_37', 'momentum__agg_linear_trend__attr_\"intercept\"__chunk_len_5__f_agg_\"max\"', 'momentum__fft_coefficient__attr_\"imag\"__coeff_76', 'momentum__fft_coefficient__attr_\"real\"__coeff_93', 'close__fft_coefficient__attr_\"real\"__coeff_96', 'momentum__fft_coefficient__attr_\"real\"__coeff_11', 'momentum__fft_coefficient__attr_\"real\"__coeff_88', 'close__fft_coefficient__attr_\"imag\"__coeff_12', 'momentum__fft_coefficient__attr_\"real\"__coeff_50', 'close__change_quantiles__f_agg_\"var\"__isabs_False__qh_1.0__ql_0.6', 'momentum__fft_coefficient__attr_\"real\"__coeff_99', 'momentum__change_quantiles__f_agg_\"var\"__isabs_False__qh_1.0__ql_0.4', 'close__fft_coefficient__attr_\"real\"__coeff_26', 'momentum__fft_coefficient__attr_\"abs\"__coeff_14', 'momentum__time_reversal_asymmetry_statistic__lag_3', 'momentum__fft_coefficient__attr_\"real\"__coeff_69', 'momentum__fft_coefficient__attr_\"real\"__coeff_29', 'close__fft_coefficient__attr_\"abs\"__coeff_66', 'close__fft_coefficient__attr_\"abs\"__coeff_72', 'momentum__change_quantiles__f_agg_\"var\"__isabs_True__qh_1.0__ql_0.2', 'close__fft_coefficient__attr_\"abs\"__coeff_90', 'momentum__fft_coefficient__attr_\"real\"__coeff_20', 'close__fft_coefficient__attr_\"real\"__coeff_99', 'momentum__fft_coefficient__attr_\"imag\"__coeff_10', 'close__fft_coefficient__attr_\"abs\"__coeff_11', 'close__fft_coefficient__attr_\"abs\"__coeff_64', 'momentum__fft_coefficient__attr_\"imag\"__coeff_64', 'close__fft_coefficient__attr_\"abs\"__coeff_19', 'close__fft_coefficient__attr_\"real\"__coeff_4', 'momentum__agg_linear_trend__attr_\"intercept\"__chunk_len_50__f_agg_\"var\"', 'close__fft_coefficient__attr_\"real\"__coeff_64', 'momentum__fft_coefficient__attr_\"real\"__coeff_36', 'close__fft_coefficient__attr_\"real\"__coeff_13', 'momentum__fft_coefficient__attr_\"real\"__coeff_92', 'close__fft_coefficient__attr_\"imag\"__coeff_35', 'close__fft_coefficient__attr_\"real\"__coeff_45', 'momentum__c3__lag_2', 'close__fft_coefficient__attr_\"abs\"__coeff_76', 'close__fft_coefficient__attr_\"imag\"__coeff_43', 'momentum__fft_coefficient__attr_\"abs\"__coeff_80', 'close__fft_coefficient__attr_\"real\"__coeff_84', 'close__fft_coefficient__attr_\"abs\"__coeff_24', 'close__fft_coefficient__attr_\"real\"__coeff_43', 'close__fft_coefficient__attr_\"real\"__coeff_92', 'close__fft_coefficient__attr_\"real\"__coeff_23', 'close__agg_linear_trend__attr_\"stderr\"__chunk_len_5__f_agg_\"mean\"', 'close__fft_coefficient__attr_\"real\"__coeff_70', 'close__fft_coefficient__attr_\"imag\"__coeff_76', 'close__change_quantiles__f_agg_\"var\"__isabs_True__qh_1.0__ql_0.0', 'close__fft_coefficient__attr_\"real\"__coeff_75', 'momentum__fft_coefficient__attr_\"real\"__coeff_77', 'close__fft_coefficient__attr_\"abs\"__coeff_74', 'momentum__fft_coefficient__attr_\"imag\"__coeff_83', 'momentum__agg_linear_trend__attr_\"slope\"__chunk_len_10__f_agg_\"var\"', 'momentum__change_quantiles__f_agg_\"var\"__isabs_True__qh_1.0__ql_0.0', 'close__fft_coefficient__attr_\"abs\"__coeff_33', 'momentum__fft_coefficient__attr_\"imag\"__coeff_77', 'momentum__fft_coefficient__attr_\"imag\"__coeff_89', 'momentum__fft_coefficient__attr_\"abs\"__coeff_81', 'close__fft_coefficient__attr_\"abs\"__coeff_18', 'close__fft_coefficient__attr_\"abs\"__coeff_5', 'close__mean_n_absolute_max__number_of_maxima_7', 'close__agg_linear_trend__attr_\"stderr\"__chunk_len_5__f_agg_\"max\"', 'momentum__fft_coefficient__attr_\"imag\"__coeff_81', 'momentum__fft_coefficient__attr_\"abs\"__coeff_99', 'close__fft_coefficient__attr_\"abs\"__coeff_3', 'momentum__fft_coefficient__attr_\"imag\"__coeff_3', 'momentum__fft_coefficient__attr_\"abs\"__coeff_84', 'close__change_quantiles__f_agg_\"var\"__isabs_True__qh_1.0__ql_0.2', 'close__fft_coefficient__attr_\"imag\"__coeff_48', 'close__agg_linear_trend__attr_\"intercept\"__chunk_len_5__f_agg_\"var\"', 'momentum__fft_coefficient__attr_\"imag\"__coeff_41', 'momentum__fft_coefficient__attr_\"abs\"__coeff_45', 'close__fft_coefficient__attr_\"real\"__coeff_53', 'close__fft_coefficient__attr_\"real\"__coeff_93', 'close__fft_coefficient__attr_\"real\"__coeff_14', 'close__fft_coefficient__attr_\"imag\"__coeff_13', 'momentum__fft_coefficient__attr_\"real\"__coeff_98', 'close__fft_coefficient__attr_\"imag\"__coeff_7', 'close__fft_coefficient__attr_\"real\"__coeff_38', 'close__fft_coefficient__attr_\"imag\"__coeff_49', 'momentum__fft_coefficient__attr_\"real\"__coeff_82', 'momentum__fft_coefficient__attr_\"abs\"__coeff_3', 'momentum__change_quantiles__f_agg_\"mean\"__isabs_True__qh_1.0__ql_0.0', 'momentum__fft_coefficient__attr_\"abs\"__coeff_41', 'close__fft_coefficient__attr_\"imag\"__coeff_45', 'momentum__fft_coefficient__attr_\"real\"__coeff_96', 'momentum__fft_coefficient__attr_\"real\"__coeff_62', 'close__spkt_welch_density__coeff_5', 'momentum__fft_coefficient__attr_\"real\"__coeff_91', 'close__fft_coefficient__attr_\"real\"__coeff_76', 'momentum__fft_coefficient__attr_\"abs\"__coeff_57', 'close__fft_coefficient__attr_\"imag\"__coeff_51', 'momentum__fft_coefficient__attr_\"imag\"__coeff_23', 'momentum__fft_coefficient__attr_\"real\"__coeff_79', 'close__fft_coefficient__attr_\"imag\"__coeff_19', 'close__fft_coefficient__attr_\"abs\"__coeff_78', 'momentum__fft_coefficient__attr_\"abs\"__coeff_59', 'momentum__fft_coefficient__attr_\"real\"__coeff_8', 'momentum__fft_coefficient__attr_\"real\"__coeff_49', 'momentum__fft_coefficient__attr_\"imag\"__coeff_79', 'momentum__fft_coefficient__attr_\"real\"__coeff_31', 'momentum__fft_coefficient__attr_\"real\"__coeff_72', 'momentum__fft_coefficient__attr_\"imag\"__coeff_45', 'close__fft_coefficient__attr_\"real\"__coeff_31', 'close__agg_linear_trend__attr_\"intercept\"__chunk_len_5__f_agg_\"mean\"', 'momentum__fft_coefficient__attr_\"abs\"__coeff_88', 'close__fft_coefficient__attr_\"imag\"__coeff_72', 'momentum__fft_coefficient__attr_\"imag\"__coeff_74', 'close__fft_coefficient__attr_\"real\"__coeff_98', 'close__fft_coefficient__attr_\"abs\"__coeff_45', 'close__fft_coefficient__attr_\"imag\"__coeff_77', 'momentum__fft_coefficient__attr_\"abs\"__coeff_92', 'close__fft_coefficient__attr_\"imag\"__coeff_24', 'close__fft_coefficient__attr_\"imag\"__coeff_52', 'momentum__fft_coefficient__attr_\"real\"__coeff_4', 'momentum__fft_coefficient__attr_\"imag\"__coeff_56', 'close__fft_coefficient__attr_\"real\"__coeff_79', 'close__fft_coefficient__attr_\"imag\"__coeff_63', 'momentum__fft_coefficient__attr_\"abs\"__coeff_20', 'close__fft_coefficient__attr_\"imag\"__coeff_16', 'momentum__fft_coefficient__attr_\"abs\"__coeff_62', 'close__fft_coefficient__attr_\"real\"__coeff_77', 'close__fft_coefficient__attr_\"abs\"__coeff_77', 'momentum__fft_coefficient__attr_\"real\"__coeff_10', 'momentum__fft_coefficient__attr_\"real\"__coeff_86', 'momentum__fft_coefficient__attr_\"abs\"__coeff_49', 'momentum__fft_coefficient__attr_\"real\"__coeff_75', 'momentum__fft_coefficient__attr_\"imag\"__coeff_2', 'momentum__fft_coefficient__attr_\"imag\"__coeff_33', 'close__fft_coefficient__attr_\"imag\"__coeff_61', 'momentum__fft_coefficient__attr_\"real\"__coeff_25', 'momentum__fft_coefficient__attr_\"real\"__coeff_46', 'close__fft_coefficient__attr_\"imag\"__coeff_53', 'close__fft_coefficient__attr_\"imag\"__coeff_73', 'close__change_quantiles__f_agg_\"mean\"__isabs_False__qh_1.0__ql_0.2', 'momentum__fft_coefficient__attr_\"imag\"__coeff_49', 'close__fft_coefficient__attr_\"imag\"__coeff_11', 'close__fft_coefficient__attr_\"imag\"__coeff_39', 'close__fft_coefficient__attr_\"abs\"__coeff_86', 'momentum__fft_coefficient__attr_\"abs\"__coeff_30', 'close__fft_coefficient__attr_\"imag\"__coeff_64', 'close__fft_coefficient__attr_\"abs\"__coeff_62', 'momentum__mean', 'close__fft_coefficient__attr_\"real\"__coeff_44', 'momentum__fft_coefficient__attr_\"abs\"__coeff_36', 'momentum__fft_coefficient__attr_\"imag\"__coeff_51', 'momentum__fft_coefficient__attr_\"real\"__coeff_15', 'close__fft_coefficient__attr_\"abs\"__coeff_1', 'close__agg_linear_trend__attr_\"stderr\"__chunk_len_10__f_agg_\"var\"', 'momentum__change_quantiles__f_agg_\"mean\"__isabs_True__qh_1.0__ql_0.6', 'close__fft_coefficient__attr_\"real\"__coeff_95', 'momentum__fft_coefficient__attr_\"real\"__coeff_12', 'close__fft_coefficient__attr_\"imag\"__coeff_96', 'momentum__fft_coefficient__attr_\"real\"__coeff_37', 'momentum__fft_coefficient__attr_\"imag\"__coeff_43', 'momentum__fft_coefficient__attr_\"real\"__coeff_38', 'close__fft_coefficient__attr_\"real\"__coeff_71', 'close__fft_coefficient__attr_\"imag\"__coeff_68', 'momentum__fft_coefficient__attr_\"abs\"__coeff_71', 'momentum__change_quantiles__f_agg_\"mean\"__isabs_True__qh_1.0__ql_0.4', 'close__fft_coefficient__attr_\"imag\"__coeff_99', 'close__fft_coefficient__attr_\"real\"__coeff_65', 'close__fft_coefficient__attr_\"abs\"__coeff_91', 'close__fft_coefficient__attr_\"imag\"__coeff_80', 'momentum__fft_coefficient__attr_\"real\"__coeff_32', 'momentum__fft_coefficient__attr_\"imag\"__coeff_95', 'momentum__fft_coefficient__attr_\"imag\"__coeff_58', 'momentum__fft_coefficient__attr_\"abs\"__coeff_28', 'momentum__fft_coefficient__attr_\"abs\"__coeff_51', 'close__fft_coefficient__attr_\"imag\"__coeff_17', 'momentum__fft_coefficient__attr_\"abs\"__coeff_82', 'momentum__fft_coefficient__attr_\"real\"__coeff_0', 'close__fft_coefficient__attr_\"abs\"__coeff_17', 'momentum__fft_coefficient__attr_\"abs\"__coeff_48', 'close__fft_coefficient__attr_\"imag\"__coeff_55', 'momentum__fft_coefficient__attr_\"imag\"__coeff_91', 'momentum__kurtosis', 'momentum__fft_coefficient__attr_\"abs\"__coeff_96', 'close__fft_coefficient__attr_\"real\"__coeff_59', 'close__fft_coefficient__attr_\"abs\"__coeff_27', 'close__fft_coefficient__attr_\"real\"__coeff_37', 'close__variation_coefficient', 'momentum__fft_coefficient__attr_\"real\"__coeff_58', 'momentum__fft_coefficient__attr_\"imag\"__coeff_67', 'close__fft_coefficient__attr_\"imag\"__coeff_92', 'momentum__fft_coefficient__attr_\"imag\"__coeff_30', 'momentum__agg_linear_trend__attr_\"stderr\"__chunk_len_50__f_agg_\"mean\"', 'momentum__fft_coefficient__attr_\"real\"__coeff_89', 'momentum__fft_coefficient__attr_\"imag\"__coeff_99', 'momentum__fft_coefficient__attr_\"real\"__coeff_59', 'close__fft_coefficient__attr_\"abs\"__coeff_79', 'close__fft_coefficient__attr_\"imag\"__coeff_54', 'close__fft_coefficient__attr_\"real\"__coeff_20', 'momentum__change_quantiles__f_agg_\"mean\"__isabs_True__qh_1.0__ql_0.2', 'close__fft_coefficient__attr_\"real\"__coeff_12', 'momentum__fft_coefficient__attr_\"real\"__coeff_54', 'momentum__fft_coefficient__attr_\"imag\"__coeff_11', 'momentum__fft_coefficient__attr_\"real\"__coeff_19', 'close__fft_coefficient__attr_\"abs\"__coeff_51', 'close__fft_coefficient__attr_\"abs\"__coeff_32', 'close__fft_coefficient__attr_\"abs\"__coeff_57', 'momentum__change_quantiles__f_agg_\"var\"__isabs_False__qh_1.0__ql_0.0', 'close__fft_coefficient__attr_\"real\"__coeff_19', 'momentum__root_mean_square', 'momentum__fft_coefficient__attr_\"abs\"__coeff_4', 'close__agg_linear_trend__attr_\"intercept\"__chunk_len_10__f_agg_\"max\"', 'close__fft_coefficient__attr_\"imag\"__coeff_91', 'close__fft_coefficient__attr_\"real\"__coeff_33', 'momentum__fft_coefficient__attr_\"imag\"__coeff_26', 'close__linear_trend__attr_\"intercept\"', 'close__fft_coefficient__attr_\"imag\"__coeff_82', 'momentum__fft_coefficient__attr_\"real\"__coeff_56', 'close__fft_coefficient__attr_\"imag\"__coeff_75', 'momentum__fft_coefficient__attr_\"abs\"__coeff_23', 'close__time_reversal_asymmetry_statistic__lag_2', 'close__agg_linear_trend__attr_\"intercept\"__chunk_len_50__f_agg_\"var\"', 'close__fft_coefficient__attr_\"abs\"__coeff_31', 'momentum__fft_coefficient__attr_\"abs\"__coeff_50', 'momentum__fft_coefficient__attr_\"real\"__coeff_23', 'momentum__fft_coefficient__attr_\"imag\"__coeff_38', 'close__fft_coefficient__attr_\"imag\"__coeff_50', 'close__fft_coefficient__attr_\"abs\"__coeff_70', 'momentum__fft_coefficient__attr_\"abs\"__coeff_61', 'momentum__fft_coefficient__attr_\"real\"__coeff_90', 'close__spkt_welch_density__coeff_2', 'momentum__fft_coefficient__attr_\"imag\"__coeff_31', 'close__fft_coefficient__attr_\"real\"__coeff_32', 'close__fft_coefficient__attr_\"real\"__coeff_97', 'momentum__fft_coefficient__attr_\"imag\"__coeff_57', 'close__fft_coefficient__attr_\"imag\"__coeff_62', 'momentum__fft_coefficient__attr_\"imag\"__coeff_6', 'momentum__fft_coefficient__attr_\"abs\"__coeff_69', 'close__fft_coefficient__attr_\"real\"__coeff_52', 'momentum__fft_coefficient__attr_\"imag\"__coeff_75', 'close__fft_coefficient__attr_\"imag\"__coeff_94', 'close__change_quantiles__f_agg_\"mean\"__isabs_True__qh_1.0__ql_0.2', 'close__fft_coefficient__attr_\"real\"__coeff_21', 'close__fft_coefficient__attr_\"abs\"__coeff_44', 'close__cid_ce__normalize_False', 'momentum__sum_values', 'momentum__fft_coefficient__attr_\"imag\"__coeff_47', 'close__fft_coefficient__attr_\"abs\"__coeff_82', 'momentum__fft_coefficient__attr_\"imag\"__coeff_78', 'close__change_quantiles__f_agg_\"var\"__isabs_False__qh_1.0__ql_0.2', 'close__fft_coefficient__attr_\"real\"__coeff_78', 'close__change_quantiles__f_agg_\"mean\"__isabs_True__qh_1.0__ql_0.6', 'close__fft_coefficient__attr_\"abs\"__coeff_23', 'momentum__fft_coefficient__attr_\"abs\"__coeff_24', 'close__fft_coefficient__attr_\"abs\"__coeff_21', 'close__fft_coefficient__attr_\"real\"__coeff_85', 'momentum__fft_coefficient__attr_\"abs\"__coeff_55', 'momentum__fft_coefficient__attr_\"imag\"__coeff_16', 'momentum__fft_coefficient__attr_\"imag\"__coeff_80', 'close__fft_coefficient__attr_\"real\"__coeff_7', 'momentum__fft_coefficient__attr_\"imag\"__coeff_15', 'close__longest_strike_below_mean', 'momentum__fft_coefficient__attr_\"abs\"__coeff_60', 'close__fft_coefficient__attr_\"abs\"__coeff_8', 'momentum__fft_coefficient__attr_\"real\"__coeff_47', 'momentum__fft_coefficient__attr_\"imag\"__coeff_36', 'momentum__fft_coefficient__attr_\"real\"__coeff_43', 'close__fft_coefficient__attr_\"imag\"__coeff_30', 'momentum__fft_coefficient__attr_\"abs\"__coeff_37', 'close__fft_coefficient__attr_\"imag\"__coeff_36', 'close__fft_coefficient__attr_\"abs\"__coeff_95', 'momentum__fft_coefficient__attr_\"imag\"__coeff_42', 'momentum__agg_linear_trend__attr_\"intercept\"__chunk_len_50__f_agg_\"mean\"', 'momentum__fft_coefficient__attr_\"imag\"__coeff_88', 'momentum__fft_coefficient__attr_\"abs\"__coeff_17', 'close__agg_linear_trend__attr_\"slope\"__chunk_len_10__f_agg_\"max\"', 'momentum__fft_coefficient__attr_\"real\"__coeff_66', 'close__fft_coefficient__attr_\"real\"__coeff_30', 'momentum__fft_coefficient__attr_\"real\"__coeff_61', 'close__fft_coefficient__attr_\"real\"__coeff_63', 'momentum__agg_linear_trend__attr_\"stderr\"__chunk_len_5__f_agg_\"var\"', 'momentum__agg_linear_trend__attr_\"stderr\"__chunk_len_5__f_agg_\"max\"', 'close__fft_coefficient__attr_\"imag\"__coeff_81', 'close__fft_coefficient__attr_\"real\"__coeff_29', 'close__agg_linear_trend__attr_\"intercept\"__chunk_len_50__f_agg_\"max\"', 'close__fft_coefficient__attr_\"real\"__coeff_22', 'close__fft_coefficient__attr_\"abs\"__coeff_39', 'close__fft_coefficient__attr_\"abs\"__coeff_25', 'close__fft_coefficient__attr_\"real\"__coeff_42', 'close__sum_values', 'close__agg_linear_trend__attr_\"intercept\"__chunk_len_10__f_agg_\"mean\"', 'close__fft_coefficient__attr_\"abs\"__coeff_37', 'momentum__fft_coefficient__attr_\"real\"__coeff_21', 'momentum__fft_coefficient__attr_\"imag\"__coeff_71', 'momentum__fft_coefficient__attr_\"abs\"__coeff_68', 'close__fft_coefficient__attr_\"imag\"__coeff_8', 'close__fft_coefficient__attr_\"real\"__coeff_80', 'close__absolute_sum_of_changes', 'close__fft_coefficient__attr_\"real\"__coeff_47', 'momentum__fft_coefficient__attr_\"abs\"__coeff_40', 'close__fft_coefficient__attr_\"abs\"__coeff_94', 'momentum__fft_coefficient__attr_\"real\"__coeff_6', 'close__fft_coefficient__attr_\"abs\"__coeff_42', 'momentum__fft_coefficient__attr_\"abs\"__coeff_70', 'momentum__fft_coefficient__attr_\"imag\"__coeff_53', 'close__fft_coefficient__attr_\"imag\"__coeff_18', 'momentum__fft_coefficient__attr_\"abs\"__coeff_13', 'close__fft_coefficient__attr_\"imag\"__coeff_33', 'momentum__fft_coefficient__attr_\"abs\"__coeff_44', 'close__fft_coefficient__attr_\"imag\"__coeff_9', 'close__fft_coefficient__attr_\"real\"__coeff_91', 'close__fft_coefficient__attr_\"real\"__coeff_74', 'momentum__fft_coefficient__attr_\"imag\"__coeff_37', 'momentum__fft_coefficient__attr_\"real\"__coeff_1', 'momentum__fft_coefficient__attr_\"imag\"__coeff_97', 'momentum__fft_coefficient__attr_\"imag\"__coeff_13', 'close__fft_coefficient__attr_\"real\"__coeff_88', 'momentum__fft_coefficient__attr_\"abs\"__coeff_26', 'momentum__fft_coefficient__attr_\"abs\"__coeff_87', 'momentum__fft_coefficient__attr_\"imag\"__coeff_28', 'close__fft_coefficient__attr_\"real\"__coeff_58', 'momentum__fft_coefficient__attr_\"abs\"__coeff_38', 'momentum__fft_coefficient__attr_\"real\"__coeff_53', 'momentum__fft_coefficient__attr_\"imag\"__coeff_9', 'momentum__fft_coefficient__attr_\"real\"__coeff_26', 'close__fft_coefficient__attr_\"real\"__coeff_83', 'close__fft_coefficient__attr_\"abs\"__coeff_54', 'momentum__fft_coefficient__attr_\"abs\"__coeff_77', 'momentum__agg_linear_trend__attr_\"intercept\"__chunk_len_50__f_agg_\"max\"', 'close__fft_coefficient__attr_\"abs\"__coeff_60', 'momentum__fft_coefficient__attr_\"imag\"__coeff_84', 'momentum__fft_coefficient__attr_\"imag\"__coeff_68', 'close__c3__lag_1', 'close__fft_coefficient__attr_\"real\"__coeff_8', 'momentum__fft_coefficient__attr_\"real\"__coeff_48', 'momentum__fft_coefficient__attr_\"imag\"__coeff_93', 'close__change_quantiles__f_agg_\"mean\"__isabs_False__qh_1.0__ql_0.4', 'close__fft_coefficient__attr_\"abs\"__coeff_73', 'close__fft_coefficient__attr_\"imag\"__coeff_21', 'close__fft_coefficient__attr_\"real\"__coeff_62', 'close__fft_coefficient__attr_\"real\"__coeff_86', 'momentum__absolute_maximum', 'momentum__fft_coefficient__attr_\"imag\"__coeff_8', 'close__fft_coefficient__attr_\"imag\"__coeff_56', 'close__fft_coefficient__attr_\"abs\"__coeff_52', 'close__fft_coefficient__attr_\"imag\"__coeff_86', 'close__change_quantiles__f_agg_\"mean\"__isabs_False__qh_1.0__ql_0.6', 'close__fft_coefficient__attr_\"real\"__coeff_0', 'close__agg_linear_trend__attr_\"stderr\"__chunk_len_50__f_agg_\"max\"', 'momentum__fft_coefficient__attr_\"real\"__coeff_60', 'momentum__fft_coefficient__attr_\"abs\"__coeff_79', 'close__fft_coefficient__attr_\"real\"__coeff_27', 'momentum__time_reversal_asymmetry_statistic__lag_1', 'momentum__fft_coefficient__attr_\"abs\"__coeff_9', 'close__fft_coefficient__attr_\"real\"__coeff_18', 'momentum__fft_coefficient__attr_\"imag\"__coeff_5', 'close__fft_coefficient__attr_\"real\"__coeff_2', 'close__fft_coefficient__attr_\"abs\"__coeff_4', 'momentum__fft_coefficient__attr_\"imag\"__coeff_35', 'close__fft_coefficient__attr_\"real\"__coeff_24', 'close__fft_coefficient__attr_\"imag\"__coeff_78', 'momentum__fft_coefficient__attr_\"imag\"__coeff_20', 'momentum__change_quantiles__f_agg_\"var\"__isabs_False__qh_1.0__ql_0.6', 'close__fft_coefficient__attr_\"imag\"__coeff_20', 'momentum__fft_coefficient__attr_\"imag\"__coeff_87', 'close__fft_coefficient__attr_\"imag\"__coeff_2', 'momentum__fft_coefficient__attr_\"imag\"__coeff_25', 'close__fft_coefficient__attr_\"real\"__coeff_41', 'close__fft_coefficient__attr_\"imag\"__coeff_41', 'momentum__fft_coefficient__attr_\"abs\"__coeff_64', 'close__fft_coefficient__attr_\"real\"__coeff_69', 'momentum__fft_coefficient__attr_\"abs\"__coeff_90', 'momentum__fft_coefficient__attr_\"real\"__coeff_5', 'close__fft_coefficient__attr_\"imag\"__coeff_85', 'momentum__fft_coefficient__attr_\"real\"__coeff_35', 'close__fft_coefficient__attr_\"real\"__coeff_94', 'close__fft_coefficient__attr_\"real\"__coeff_60', 'momentum__fft_coefficient__attr_\"imag\"__coeff_62', 'momentum__agg_linear_trend__attr_\"stderr\"__chunk_len_10__f_agg_\"max\"', 'momentum__fft_coefficient__attr_\"imag\"__coeff_98', 'momentum__fft_coefficient__attr_\"abs\"__coeff_7', 'momentum__absolute_sum_of_changes', 'momentum__fft_coefficient__attr_\"real\"__coeff_27', 'momentum__fft_coefficient__attr_\"real\"__coeff_55', 'close__fft_coefficient__attr_\"abs\"__coeff_13', 'momentum__fft_coefficient__attr_\"real\"__coeff_85', 'close__fft_coefficient__attr_\"abs\"__coeff_7', 'close__fft_coefficient__attr_\"real\"__coeff_49', 'close__fft_coefficient__attr_\"imag\"__coeff_84', 'close__fft_coefficient__attr_\"imag\"__coeff_88', 'close__fft_coefficient__attr_\"real\"__coeff_50', 'momentum__fft_coefficient__attr_\"abs\"__coeff_95', 'close__fft_coefficient__attr_\"real\"__coeff_81', 'close__fft_coefficient__attr_\"real\"__coeff_35', 'momentum__fft_coefficient__attr_\"real\"__coeff_97', 'momentum__fft_coefficient__attr_\"abs\"__coeff_34', 'close__fft_coefficient__attr_\"abs\"__coeff_36', 'close__mean_abs_change', 'close__fft_coefficient__attr_\"abs\"__coeff_10', 'momentum__agg_linear_trend__attr_\"intercept\"__chunk_len_5__f_agg_\"var\"', 'momentum__fft_coefficient__attr_\"imag\"__coeff_39', 'close__fft_coefficient__attr_\"imag\"__coeff_26', 'momentum__change_quantiles__f_agg_\"var\"__isabs_True__qh_1.0__ql_0.4', 'close__fft_coefficient__attr_\"imag\"__coeff_27', 'momentum__fft_coefficient__attr_\"abs\"__coeff_39', 'close__fft_coefficient__attr_\"abs\"__coeff_47', 'momentum__time_reversal_asymmetry_statistic__lag_2', 'momentum__fft_coefficient__attr_\"imag\"__coeff_94', 'close__fft_coefficient__attr_\"imag\"__coeff_10', 'momentum__fft_coefficient__attr_\"real\"__coeff_18', 'close__fft_coefficient__attr_\"abs\"__coeff_83', 'close__fft_coefficient__attr_\"imag\"__coeff_34', 'close__fft_coefficient__attr_\"real\"__coeff_40', 'momentum__fft_coefficient__attr_\"abs\"__coeff_19', 'close__fft_coefficient__attr_\"abs\"__coeff_56', 'close__fft_coefficient__attr_\"abs\"__coeff_41', 'momentum__fft_coefficient__attr_\"imag\"__coeff_85', 'close__fft_coefficient__attr_\"real\"__coeff_72', 'close__agg_linear_trend__attr_\"stderr\"__chunk_len_10__f_agg_\"mean\"'}, {'close__mean_change', 'close__change_quantiles__f_agg_\"mean\"__isabs_False__qh_1.0__ql_0.0'}, {'momentum__change_quantiles__f_agg_\"mean\"__isabs_False__qh_1.0__ql_0.0', 'momentum__mean_change', 'momentum__linear_trend__attr_\"slope\"', 'momentum__mean_second_derivative_central', 'close__mean_second_derivative_central'}, {'close__quantile__q_0.4', 'momentum__median', 'close__median', 'momentum__quantile__q_0.4'}, {'close__number_crossing_m__m_1', 'momentum__range_count__max_1__min_-1', 'close__count_below_mean', 'momentum__number_cwt_peaks__n_1', 'close__number_cwt_peaks__n_5', 'momentum__number_cwt_peaks__n_5', 'momentum__fft_aggregated__aggtype_\"variance\"', 'momentum__range_count__max_1000000000000.0__min_0', 'close__length', 'momentum__count_below_mean', 'momentum__count_above_mean', 'momentum__cid_ce__normalize_True', 'close__range_count__max_1000000000000.0__min_0', 'close__fft_aggregated__aggtype_\"variance\"', 'momentum__number_peaks__n_3', 'close__cid_ce__normalize_True', 'close__number_peaks__n_3', 'momentum__number_crossing_m__m_1', 'close__number_cwt_peaks__n_1', 'close__number_peaks__n_1', 'momentum__number_peaks__n_5', 'close__number_peaks__n_5', 'momentum__length', 'close__count_above_mean', 'momentum__number_peaks__n_10', 'momentum__number_peaks__n_1', 'close__number_peaks__n_10', 'close__range_count__max_1__min_-1'}, {'close__first_location_of_maximum', 'close__last_location_of_maximum'}, {'close__last_location_of_minimum', 'close__first_location_of_minimum'}, {'close__ratio_value_number_to_time_series_length', 'close__percentage_of_reoccurring_datapoints_to_all_datapoints', 'close__sum_of_reoccurring_data_points'}, {'momentum__minimum', 'close__minimum'}, {'close__large_standard_deviation__r_0.35000000000000003', 'close__symmetry_looking__r_0.15000000000000002', 'close__large_standard_deviation__r_0.4'}, {'momentum__quantile__q_0.3', 'close__quantile__q_0.2', 'momentum__quantile__q_0.2', 'close__quantile__q_0.3', 'momentum__quantile__q_0.1', 'close__quantile__q_0.1'}, {'close__partial_autocorrelation__lag_1', 'close__autocorrelation__lag_1'}, {'close__partial_autocorrelation__lag_9', 'close__ar_coefficient__coeff_3__k_10'}, {'momentum__index_mass_quantile__q_0.1', 'close__index_mass_quantile__q_0.1'}, {'close__cwt_coefficients__coeff_0__w_5__widths_(2, 5, 10, 20)', 'close__cwt_coefficients__coeff_2__w_5__widths_(2, 5, 10, 20)', 'close__cwt_coefficients__coeff_1__w_5__widths_(2, 5, 10, 20)'}, {'close__cwt_coefficients__coeff_3__w_10__widths_(2, 5, 10, 20)', 'close__cwt_coefficients__coeff_6__w_10__widths_(2, 5, 10, 20)', 'close__cwt_coefficients__coeff_2__w_10__widths_(2, 5, 10, 20)', 'close__cwt_coefficients__coeff_5__w_10__widths_(2, 5, 10, 20)', 'momentum__cwt_coefficients__coeff_0__w_10__widths_(2, 5, 10, 20)', 'close__cwt_coefficients__coeff_0__w_10__widths_(2, 5, 10, 20)', 'close__cwt_coefficients__coeff_4__w_10__widths_(2, 5, 10, 20)', 'close__cwt_coefficients__coeff_1__w_10__widths_(2, 5, 10, 20)'}, {'close__cwt_coefficients__coeff_1__w_20__widths_(2, 5, 10, 20)', 'momentum__cwt_coefficients__coeff_1__w_20__widths_(2, 5, 10, 20)', 'close__cwt_coefficients__coeff_7__w_20__widths_(2, 5, 10, 20)', 'close__cwt_coefficients__coeff_2__w_20__widths_(2, 5, 10, 20)', 'momentum__cwt_coefficients__coeff_3__w_20__widths_(2, 5, 10, 20)', 'close__cwt_coefficients__coeff_3__w_20__widths_(2, 5, 10, 20)', 'momentum__cwt_coefficients__coeff_4__w_20__widths_(2, 5, 10, 20)', 'momentum__cwt_coefficients__coeff_2__w_20__widths_(2, 5, 10, 20)', 'close__cwt_coefficients__coeff_6__w_20__widths_(2, 5, 10, 20)', 'close__cwt_coefficients__coeff_0__w_20__widths_(2, 5, 10, 20)', 'close__cwt_coefficients__coeff_8__w_20__widths_(2, 5, 10, 20)', 'momentum__cwt_coefficients__coeff_0__w_20__widths_(2, 5, 10, 20)', 'close__cwt_coefficients__coeff_5__w_20__widths_(2, 5, 10, 20)', 'close__cwt_coefficients__coeff_9__w_20__widths_(2, 5, 10, 20)', 'close__cwt_coefficients__coeff_4__w_20__widths_(2, 5, 10, 20)', 'close__cwt_coefficients__coeff_10__w_20__widths_(2, 5, 10, 20)'}, {'momentum__cwt_coefficients__coeff_3__w_2__widths_(2, 5, 10, 20)', 'close__cwt_coefficients__coeff_2__w_2__widths_(2, 5, 10, 20)'}, {'close__cwt_coefficients__coeff_4__w_5__widths_(2, 5, 10, 20)', 'close__cwt_coefficients__coeff_5__w_5__widths_(2, 5, 10, 20)', 'close__cwt_coefficients__coeff_3__w_5__widths_(2, 5, 10, 20)'}, {'momentum__cwt_coefficients__coeff_5__w_2__widths_(2, 5, 10, 20)', 'close__cwt_coefficients__coeff_4__w_2__widths_(2, 5, 10, 20)'}, {'close__cwt_coefficients__coeff_6__w_5__widths_(2, 5, 10, 20)', 'close__cwt_coefficients__coeff_7__w_5__widths_(2, 5, 10, 20)'}, {'close__cwt_coefficients__coeff_7__w_10__widths_(2, 5, 10, 20)', 'close__cwt_coefficients__coeff_9__w_10__widths_(2, 5, 10, 20)', 'close__cwt_coefficients__coeff_8__w_10__widths_(2, 5, 10, 20)', 'close__cwt_coefficients__coeff_11__w_10__widths_(2, 5, 10, 20)', 'close__cwt_coefficients__coeff_10__w_10__widths_(2, 5, 10, 20)'}, {'momentum__cwt_coefficients__coeff_9__w_2__widths_(2, 5, 10, 20)', 'close__cwt_coefficients__coeff_8__w_2__widths_(2, 5, 10, 20)'}, {'close__cwt_coefficients__coeff_9__w_5__widths_(2, 5, 10, 20)', 'close__cwt_coefficients__coeff_8__w_5__widths_(2, 5, 10, 20)'}, {'momentum__cwt_coefficients__coeff_10__w_2__widths_(2, 5, 10, 20)', 'close__cwt_coefficients__coeff_9__w_2__widths_(2, 5, 10, 20)'}, {'momentum__cwt_coefficients__coeff_11__w_2__widths_(2, 5, 10, 20)', 'close__cwt_coefficients__coeff_10__w_2__widths_(2, 5, 10, 20)'}, {'close__cwt_coefficients__coeff_10__w_5__widths_(2, 5, 10, 20)', 'close__cwt_coefficients__coeff_11__w_5__widths_(2, 5, 10, 20)'}, {'momentum__cwt_coefficients__coeff_12__w_2__widths_(2, 5, 10, 20)', 'close__cwt_coefficients__coeff_11__w_2__widths_(2, 5, 10, 20)'}, {'close__cwt_coefficients__coeff_13__w_20__widths_(2, 5, 10, 20)', 'momentum__cwt_coefficients__coeff_13__w_20__widths_(2, 5, 10, 20)', 'momentum__cwt_coefficients__coeff_12__w_20__widths_(2, 5, 10, 20)', 'close__cwt_coefficients__coeff_14__w_20__widths_(2, 5, 10, 20)', 'momentum__cwt_coefficients__coeff_8__w_20__widths_(2, 5, 10, 20)', 'close__cwt_coefficients__coeff_11__w_20__widths_(2, 5, 10, 20)', 'momentum__cwt_coefficients__coeff_9__w_20__widths_(2, 5, 10, 20)', 'close__cwt_coefficients__coeff_12__w_20__widths_(2, 5, 10, 20)', 'momentum__cwt_coefficients__coeff_14__w_20__widths_(2, 5, 10, 20)', 'momentum__cwt_coefficients__coeff_11__w_20__widths_(2, 5, 10, 20)', 'momentum__cwt_coefficients__coeff_10__w_20__widths_(2, 5, 10, 20)'}, {'close__cwt_coefficients__coeff_12__w_2__widths_(2, 5, 10, 20)', 'momentum__cwt_coefficients__coeff_13__w_2__widths_(2, 5, 10, 20)'}, {'close__cwt_coefficients__coeff_13__w_5__widths_(2, 5, 10, 20)', 'close__cwt_coefficients__coeff_12__w_5__widths_(2, 5, 10, 20)'}, {'close__cwt_coefficients__coeff_12__w_10__widths_(2, 5, 10, 20)', 'close__cwt_coefficients__coeff_14__w_10__widths_(2, 5, 10, 20)', 'close__cwt_coefficients__coeff_13__w_10__widths_(2, 5, 10, 20)'}, {'momentum__cwt_coefficients__coeff_14__w_2__widths_(2, 5, 10, 20)', 'close__cwt_coefficients__coeff_13__w_2__widths_(2, 5, 10, 20)'}, {'close__change_quantiles__f_agg_\"var\"__isabs_False__qh_0.4__ql_0.0', 'close__change_quantiles__f_agg_\"var\"__isabs_True__qh_0.4__ql_0.0'}, {'close__change_quantiles__f_agg_\"var\"__isabs_False__qh_0.6__ql_0.0', 'close__change_quantiles__f_agg_\"var\"__isabs_True__qh_0.6__ql_0.0'}, {'close__change_quantiles__f_agg_\"mean\"__isabs_True__qh_0.6__ql_0.0', 'close__change_quantiles__f_agg_\"mean\"__isabs_True__qh_0.8__ql_0.0'}, {'close__change_quantiles__f_agg_\"var\"__isabs_True__qh_0.8__ql_0.0', 'close__change_quantiles__f_agg_\"var\"__isabs_False__qh_0.8__ql_0.0'}, {'close__change_quantiles__f_agg_\"var\"__isabs_True__qh_0.4__ql_0.2', 'close__change_quantiles__f_agg_\"var\"__isabs_False__qh_0.4__ql_0.2'}, {'close__change_quantiles__f_agg_\"var\"__isabs_False__qh_0.8__ql_0.2', 'close__change_quantiles__f_agg_\"mean\"__isabs_True__qh_0.8__ql_0.2'}, {'close__change_quantiles__f_agg_\"var\"__isabs_True__qh_1.0__ql_0.8', 'close__change_quantiles__f_agg_\"var\"__isabs_False__qh_1.0__ql_0.8'}, {'momentum__fft_aggregated__aggtype_\"centroid\"', 'close__fft_aggregated__aggtype_\"centroid\"'}, {'close__fft_aggregated__aggtype_\"skew\"', 'momentum__fft_aggregated__aggtype_\"skew\"', 'close__fft_aggregated__aggtype_\"kurtosis\"'}, {'close__approximate_entropy__m_2__r_0.1', 'momentum__approximate_entropy__m_2__r_0.1'}, {'close__permutation_entropy__dimension_6__tau_1', 'momentum__approximate_entropy__m_2__r_0.3', 'close__permutation_entropy__dimension_7__tau_1', 'close__approximate_entropy__m_2__r_0.3', 'close__approximate_entropy__m_2__r_0.5', 'momentum__permutation_entropy__dimension_7__tau_1'}, {'close__approximate_entropy__m_2__r_0.7', 'close__approximate_entropy__m_2__r_0.9', 'momentum__approximate_entropy__m_2__r_0.5'}, {'close__friedrich_coefficients__coeff_2__m_3__r_30', 'momentum__friedrich_coefficients__coeff_0__m_3__r_30', 'momentum__friedrich_coefficients__coeff_1__m_3__r_30', 'momentum__friedrich_coefficients__coeff_2__m_3__r_30', 'momentum__friedrich_coefficients__coeff_3__m_3__r_30', 'close__friedrich_coefficients__coeff_0__m_3__r_30', 'close__friedrich_coefficients__coeff_1__m_3__r_30', 'close__friedrich_coefficients__coeff_3__m_3__r_30'}, {'momentum__linear_trend__attr_\"stderr\"', 'close__linear_trend__attr_\"stderr\"'}, {'close__agg_linear_trend__attr_\"intercept\"__chunk_len_5__f_agg_\"min\"', 'momentum__agg_linear_trend__attr_\"intercept\"__chunk_len_5__f_agg_\"min\"'}, {'momentum__agg_linear_trend__attr_\"intercept\"__chunk_len_10__f_agg_\"min\"', 'close__agg_linear_trend__attr_\"intercept\"__chunk_len_10__f_agg_\"min\"'}, {'close__agg_linear_trend__attr_\"intercept\"__chunk_len_50__f_agg_\"min\"', 'momentum__agg_linear_trend__attr_\"intercept\"__chunk_len_50__f_agg_\"min\"'}, {'close__agg_linear_trend__attr_\"slope\"__chunk_len_5__f_agg_\"max\"', 'close__agg_linear_trend__attr_\"slope\"__chunk_len_5__f_agg_\"mean\"'}, {'close__energy_ratio_by_chunks__num_segments_10__segment_focus_5', 'momentum__energy_ratio_by_chunks__num_segments_10__segment_focus_5'}, {'close__lempel_ziv_complexity__bins_2', 'close__lempel_ziv_complexity__bins_5', 'momentum__lempel_ziv_complexity__bins_2', 'close__lempel_ziv_complexity__bins_10', 'momentum__lempel_ziv_complexity__bins_3'}, {'close__lempel_ziv_complexity__bins_3', 'momentum__lempel_ziv_complexity__bins_5', 'momentum__lempel_ziv_complexity__bins_10', 'close__lempel_ziv_complexity__bins_100'}, {'close__permutation_entropy__dimension_3__tau_1', 'momentum__permutation_entropy__dimension_3__tau_1'}, {'close__permutation_entropy__dimension_5__tau_1', 'momentum__permutation_entropy__dimension_4__tau_1', 'close__permutation_entropy__dimension_4__tau_1', 'momentum__permutation_entropy__dimension_5__tau_1'}, {'momentum__last_location_of_maximum', 'momentum__first_location_of_maximum'}, {'momentum__last_location_of_minimum', 'momentum__first_location_of_minimum'}, {'momentum__partial_autocorrelation__lag_1', 'momentum__autocorrelation__lag_1'}, {'momentum__index_mass_quantile__q_0.7', 'momentum__index_mass_quantile__q_0.8'}, {'momentum__cwt_coefficients__coeff_0__w_5__widths_(2, 5, 10, 20)', 'momentum__cwt_coefficients__coeff_1__w_5__widths_(2, 5, 10, 20)'}, {'momentum__cwt_coefficients__coeff_1__w_10__widths_(2, 5, 10, 20)', 'momentum__cwt_coefficients__coeff_4__w_10__widths_(2, 5, 10, 20)', 'momentum__cwt_coefficients__coeff_3__w_10__widths_(2, 5, 10, 20)', 'momentum__cwt_coefficients__coeff_2__w_10__widths_(2, 5, 10, 20)'}, {'momentum__cwt_coefficients__coeff_3__w_5__widths_(2, 5, 10, 20)', 'momentum__cwt_coefficients__coeff_2__w_5__widths_(2, 5, 10, 20)'}, {'momentum__cwt_coefficients__coeff_4__w_5__widths_(2, 5, 10, 20)', 'momentum__cwt_coefficients__coeff_5__w_5__widths_(2, 5, 10, 20)'}, {'momentum__cwt_coefficients__coeff_5__w_10__widths_(2, 5, 10, 20)', 'momentum__cwt_coefficients__coeff_6__w_10__widths_(2, 5, 10, 20)', 'momentum__cwt_coefficients__coeff_7__w_10__widths_(2, 5, 10, 20)', 'momentum__cwt_coefficients__coeff_8__w_10__widths_(2, 5, 10, 20)'}, {'momentum__cwt_coefficients__coeff_5__w_20__widths_(2, 5, 10, 20)', 'momentum__cwt_coefficients__coeff_7__w_20__widths_(2, 5, 10, 20)', 'momentum__cwt_coefficients__coeff_6__w_20__widths_(2, 5, 10, 20)'}, {'momentum__cwt_coefficients__coeff_7__w_5__widths_(2, 5, 10, 20)', 'momentum__cwt_coefficients__coeff_6__w_5__widths_(2, 5, 10, 20)'}, {'momentum__cwt_coefficients__coeff_8__w_5__widths_(2, 5, 10, 20)', 'momentum__cwt_coefficients__coeff_9__w_5__widths_(2, 5, 10, 20)'}, {'momentum__cwt_coefficients__coeff_11__w_10__widths_(2, 5, 10, 20)', 'momentum__cwt_coefficients__coeff_12__w_10__widths_(2, 5, 10, 20)', 'momentum__cwt_coefficients__coeff_9__w_10__widths_(2, 5, 10, 20)', 'momentum__cwt_coefficients__coeff_10__w_10__widths_(2, 5, 10, 20)'}, {'momentum__cwt_coefficients__coeff_11__w_5__widths_(2, 5, 10, 20)', 'momentum__cwt_coefficients__coeff_10__w_5__widths_(2, 5, 10, 20)'}, {'momentum__cwt_coefficients__coeff_12__w_5__widths_(2, 5, 10, 20)', 'momentum__cwt_coefficients__coeff_13__w_5__widths_(2, 5, 10, 20)'}, {'momentum__cwt_coefficients__coeff_13__w_10__widths_(2, 5, 10, 20)', 'momentum__cwt_coefficients__coeff_14__w_10__widths_(2, 5, 10, 20)'}, {'momentum__change_quantiles__f_agg_\"var\"__isabs_False__qh_0.2__ql_0.0', 'momentum__change_quantiles__f_agg_\"var\"__isabs_True__qh_0.2__ql_0.0'}, {'momentum__change_quantiles__f_agg_\"var\"__isabs_True__qh_0.4__ql_0.0', 'momentum__change_quantiles__f_agg_\"var\"__isabs_False__qh_0.4__ql_0.0'}, {'momentum__change_quantiles__f_agg_\"mean\"__isabs_True__qh_0.4__ql_0.0', 'momentum__change_quantiles__f_agg_\"mean\"__isabs_True__qh_0.6__ql_0.0'}, {'momentum__change_quantiles__f_agg_\"var\"__isabs_True__qh_0.6__ql_0.0', 'momentum__change_quantiles__f_agg_\"var\"__isabs_False__qh_0.6__ql_0.0'}, {'momentum__change_quantiles__f_agg_\"mean\"__isabs_True__qh_0.8__ql_0.0', 'momentum__change_quantiles__f_agg_\"var\"__isabs_False__qh_0.8__ql_0.2', 'momentum__change_quantiles__f_agg_\"var\"__isabs_False__qh_0.8__ql_0.0', 'momentum__change_quantiles__f_agg_\"var\"__isabs_True__qh_0.8__ql_0.2', 'momentum__change_quantiles__f_agg_\"mean\"__isabs_True__qh_0.8__ql_0.2', 'momentum__change_quantiles__f_agg_\"var\"__isabs_True__qh_0.8__ql_0.0'}, {'momentum__change_quantiles__f_agg_\"var\"__isabs_True__qh_0.8__ql_0.4', 'momentum__change_quantiles__f_agg_\"mean\"__isabs_True__qh_0.8__ql_0.4', 'momentum__change_quantiles__f_agg_\"var\"__isabs_False__qh_0.8__ql_0.4'}, {'momentum__change_quantiles__f_agg_\"var\"__isabs_True__qh_1.0__ql_0.8', 'momentum__change_quantiles__f_agg_\"var\"__isabs_False__qh_1.0__ql_0.8'}, {'momentum__approximate_entropy__m_2__r_0.7', 'momentum__approximate_entropy__m_2__r_0.9'}, {'momentum__agg_linear_trend__attr_\"stderr\"__chunk_len_5__f_agg_\"mean\"', 'momentum__agg_linear_trend__attr_\"stderr\"__chunk_len_10__f_agg_\"mean\"'}]\n",
            "Ciakrtilan degiskenler : \n",
            " ['close__sum_values', 'close__abs_energy', 'close__mean_abs_change', 'close__median', 'close__mean', 'close__length', 'close__standard_deviation', 'close__variation_coefficient', 'close__variance', 'close__root_mean_square', 'close__absolute_sum_of_changes', 'close__longest_strike_below_mean', 'close__count_below_mean', 'close__last_location_of_maximum', 'close__last_location_of_minimum', 'close__percentage_of_reoccurring_datapoints_to_all_datapoints', 'close__ratio_value_number_to_time_series_length', 'close__maximum', 'close__absolute_maximum', 'close__minimum', 'close__time_reversal_asymmetry_statistic__lag_1', 'close__time_reversal_asymmetry_statistic__lag_2', 'close__c3__lag_1', 'close__c3__lag_2', 'close__c3__lag_3', 'close__cid_ce__normalize_True', 'close__cid_ce__normalize_False', 'close__symmetry_looking__r_0.15000000000000002', 'close__large_standard_deviation__r_0.4', 'close__quantile__q_0.1', 'close__quantile__q_0.2', 'close__quantile__q_0.4', 'close__autocorrelation__lag_1', 'close__partial_autocorrelation__lag_9', 'close__number_cwt_peaks__n_1', 'close__number_cwt_peaks__n_5', 'close__number_peaks__n_1', 'close__number_peaks__n_3', 'close__number_peaks__n_5', 'close__number_peaks__n_10', 'close__index_mass_quantile__q_0.1', 'close__cwt_coefficients__coeff_0__w_5__widths_(2, 5, 10, 20)', 'close__cwt_coefficients__coeff_0__w_10__widths_(2, 5, 10, 20)', 'close__cwt_coefficients__coeff_0__w_20__widths_(2, 5, 10, 20)', 'close__cwt_coefficients__coeff_1__w_5__widths_(2, 5, 10, 20)', 'close__cwt_coefficients__coeff_1__w_10__widths_(2, 5, 10, 20)', 'close__cwt_coefficients__coeff_2__w_2__widths_(2, 5, 10, 20)', 'close__cwt_coefficients__coeff_2__w_10__widths_(2, 5, 10, 20)', 'close__cwt_coefficients__coeff_2__w_20__widths_(2, 5, 10, 20)', 'close__cwt_coefficients__coeff_3__w_5__widths_(2, 5, 10, 20)', 'close__cwt_coefficients__coeff_3__w_10__widths_(2, 5, 10, 20)', 'close__cwt_coefficients__coeff_3__w_20__widths_(2, 5, 10, 20)', 'close__cwt_coefficients__coeff_4__w_2__widths_(2, 5, 10, 20)', 'close__cwt_coefficients__coeff_4__w_5__widths_(2, 5, 10, 20)', 'close__cwt_coefficients__coeff_4__w_20__widths_(2, 5, 10, 20)', 'close__cwt_coefficients__coeff_5__w_10__widths_(2, 5, 10, 20)', 'close__cwt_coefficients__coeff_5__w_20__widths_(2, 5, 10, 20)', 'close__cwt_coefficients__coeff_6__w_10__widths_(2, 5, 10, 20)', 'close__cwt_coefficients__coeff_6__w_20__widths_(2, 5, 10, 20)', 'close__cwt_coefficients__coeff_7__w_5__widths_(2, 5, 10, 20)', 'close__cwt_coefficients__coeff_7__w_10__widths_(2, 5, 10, 20)', 'close__cwt_coefficients__coeff_7__w_20__widths_(2, 5, 10, 20)', 'close__cwt_coefficients__coeff_8__w_5__widths_(2, 5, 10, 20)', 'close__cwt_coefficients__coeff_8__w_10__widths_(2, 5, 10, 20)', 'close__cwt_coefficients__coeff_8__w_20__widths_(2, 5, 10, 20)', 'close__cwt_coefficients__coeff_9__w_2__widths_(2, 5, 10, 20)', 'close__cwt_coefficients__coeff_9__w_10__widths_(2, 5, 10, 20)', 'close__cwt_coefficients__coeff_9__w_20__widths_(2, 5, 10, 20)', 'close__cwt_coefficients__coeff_10__w_2__widths_(2, 5, 10, 20)', 'close__cwt_coefficients__coeff_10__w_5__widths_(2, 5, 10, 20)', 'close__cwt_coefficients__coeff_10__w_10__widths_(2, 5, 10, 20)', 'close__cwt_coefficients__coeff_10__w_20__widths_(2, 5, 10, 20)', 'close__cwt_coefficients__coeff_11__w_2__widths_(2, 5, 10, 20)', 'close__cwt_coefficients__coeff_11__w_20__widths_(2, 5, 10, 20)', 'close__cwt_coefficients__coeff_12__w_2__widths_(2, 5, 10, 20)', 'close__cwt_coefficients__coeff_12__w_5__widths_(2, 5, 10, 20)', 'close__cwt_coefficients__coeff_12__w_10__widths_(2, 5, 10, 20)', 'close__cwt_coefficients__coeff_12__w_20__widths_(2, 5, 10, 20)', 'close__cwt_coefficients__coeff_13__w_20__widths_(2, 5, 10, 20)', 'close__cwt_coefficients__coeff_14__w_10__widths_(2, 5, 10, 20)', 'close__cwt_coefficients__coeff_14__w_20__widths_(2, 5, 10, 20)', 'close__spkt_welch_density__coeff_2', 'close__spkt_welch_density__coeff_5', 'close__spkt_welch_density__coeff_8', 'close__change_quantiles__f_agg_\"var\"__isabs_True__qh_0.4__ql_0.0', 'close__change_quantiles__f_agg_\"mean\"__isabs_True__qh_0.6__ql_0.0', 'close__change_quantiles__f_agg_\"var\"__isabs_True__qh_0.6__ql_0.0', 'close__change_quantiles__f_agg_\"var\"__isabs_True__qh_0.8__ql_0.0', 'close__change_quantiles__f_agg_\"mean\"__isabs_False__qh_1.0__ql_0.0', 'close__change_quantiles__f_agg_\"var\"__isabs_False__qh_1.0__ql_0.0', 'close__change_quantiles__f_agg_\"mean\"__isabs_True__qh_1.0__ql_0.0', 'close__change_quantiles__f_agg_\"var\"__isabs_True__qh_1.0__ql_0.0', 'close__change_quantiles__f_agg_\"var\"__isabs_False__qh_0.4__ql_0.2', 'close__change_quantiles__f_agg_\"mean\"__isabs_True__qh_0.8__ql_0.2', 'close__change_quantiles__f_agg_\"mean\"__isabs_False__qh_1.0__ql_0.2', 'close__change_quantiles__f_agg_\"var\"__isabs_False__qh_1.0__ql_0.2', 'close__change_quantiles__f_agg_\"mean\"__isabs_True__qh_1.0__ql_0.2', 'close__change_quantiles__f_agg_\"var\"__isabs_True__qh_1.0__ql_0.2', 'close__change_quantiles__f_agg_\"mean\"__isabs_False__qh_1.0__ql_0.4', 'close__change_quantiles__f_agg_\"var\"__isabs_False__qh_1.0__ql_0.4', 'close__change_quantiles__f_agg_\"mean\"__isabs_True__qh_1.0__ql_0.4', 'close__change_quantiles__f_agg_\"var\"__isabs_True__qh_1.0__ql_0.4', 'close__change_quantiles__f_agg_\"mean\"__isabs_False__qh_1.0__ql_0.6', 'close__change_quantiles__f_agg_\"var\"__isabs_False__qh_1.0__ql_0.6', 'close__change_quantiles__f_agg_\"mean\"__isabs_True__qh_1.0__ql_0.6', 'close__change_quantiles__f_agg_\"var\"__isabs_True__qh_1.0__ql_0.6', 'close__change_quantiles__f_agg_\"var\"__isabs_True__qh_1.0__ql_0.8', 'close__fft_coefficient__attr_\"real\"__coeff_0', 'close__fft_coefficient__attr_\"real\"__coeff_1', 'close__fft_coefficient__attr_\"real\"__coeff_2', 'close__fft_coefficient__attr_\"real\"__coeff_3', 'close__fft_coefficient__attr_\"real\"__coeff_4', 'close__fft_coefficient__attr_\"real\"__coeff_5', 'close__fft_coefficient__attr_\"real\"__coeff_6', 'close__fft_coefficient__attr_\"real\"__coeff_7', 'close__fft_coefficient__attr_\"real\"__coeff_8', 'close__fft_coefficient__attr_\"real\"__coeff_9', 'close__fft_coefficient__attr_\"real\"__coeff_10', 'close__fft_coefficient__attr_\"real\"__coeff_11', 'close__fft_coefficient__attr_\"real\"__coeff_12', 'close__fft_coefficient__attr_\"real\"__coeff_13', 'close__fft_coefficient__attr_\"real\"__coeff_14', 'close__fft_coefficient__attr_\"real\"__coeff_15', 'close__fft_coefficient__attr_\"real\"__coeff_16', 'close__fft_coefficient__attr_\"real\"__coeff_17', 'close__fft_coefficient__attr_\"real\"__coeff_18', 'close__fft_coefficient__attr_\"real\"__coeff_19', 'close__fft_coefficient__attr_\"real\"__coeff_20', 'close__fft_coefficient__attr_\"real\"__coeff_21', 'close__fft_coefficient__attr_\"real\"__coeff_22', 'close__fft_coefficient__attr_\"real\"__coeff_23', 'close__fft_coefficient__attr_\"real\"__coeff_24', 'close__fft_coefficient__attr_\"real\"__coeff_25', 'close__fft_coefficient__attr_\"real\"__coeff_26', 'close__fft_coefficient__attr_\"real\"__coeff_27', 'close__fft_coefficient__attr_\"real\"__coeff_28', 'close__fft_coefficient__attr_\"real\"__coeff_29', 'close__fft_coefficient__attr_\"real\"__coeff_30', 'close__fft_coefficient__attr_\"real\"__coeff_31', 'close__fft_coefficient__attr_\"real\"__coeff_32', 'close__fft_coefficient__attr_\"real\"__coeff_33', 'close__fft_coefficient__attr_\"real\"__coeff_34', 'close__fft_coefficient__attr_\"real\"__coeff_35', 'close__fft_coefficient__attr_\"real\"__coeff_36', 'close__fft_coefficient__attr_\"real\"__coeff_37', 'close__fft_coefficient__attr_\"real\"__coeff_38', 'close__fft_coefficient__attr_\"real\"__coeff_39', 'close__fft_coefficient__attr_\"real\"__coeff_40', 'close__fft_coefficient__attr_\"real\"__coeff_41', 'close__fft_coefficient__attr_\"real\"__coeff_42', 'close__fft_coefficient__attr_\"real\"__coeff_43', 'close__fft_coefficient__attr_\"real\"__coeff_44', 'close__fft_coefficient__attr_\"real\"__coeff_45', 'close__fft_coefficient__attr_\"real\"__coeff_46', 'close__fft_coefficient__attr_\"real\"__coeff_47', 'close__fft_coefficient__attr_\"real\"__coeff_48', 'close__fft_coefficient__attr_\"real\"__coeff_49', 'close__fft_coefficient__attr_\"real\"__coeff_50', 'close__fft_coefficient__attr_\"real\"__coeff_51', 'close__fft_coefficient__attr_\"real\"__coeff_52', 'close__fft_coefficient__attr_\"real\"__coeff_53', 'close__fft_coefficient__attr_\"real\"__coeff_54', 'close__fft_coefficient__attr_\"real\"__coeff_55', 'close__fft_coefficient__attr_\"real\"__coeff_56', 'close__fft_coefficient__attr_\"real\"__coeff_58', 'close__fft_coefficient__attr_\"real\"__coeff_59', 'close__fft_coefficient__attr_\"real\"__coeff_60', 'close__fft_coefficient__attr_\"real\"__coeff_61', 'close__fft_coefficient__attr_\"real\"__coeff_62', 'close__fft_coefficient__attr_\"real\"__coeff_63', 'close__fft_coefficient__attr_\"real\"__coeff_64', 'close__fft_coefficient__attr_\"real\"__coeff_65', 'close__fft_coefficient__attr_\"real\"__coeff_66', 'close__fft_coefficient__attr_\"real\"__coeff_67', 'close__fft_coefficient__attr_\"real\"__coeff_68', 'close__fft_coefficient__attr_\"real\"__coeff_69', 'close__fft_coefficient__attr_\"real\"__coeff_70', 'close__fft_coefficient__attr_\"real\"__coeff_71', 'close__fft_coefficient__attr_\"real\"__coeff_72', 'close__fft_coefficient__attr_\"real\"__coeff_73', 'close__fft_coefficient__attr_\"real\"__coeff_74', 'close__fft_coefficient__attr_\"real\"__coeff_75', 'close__fft_coefficient__attr_\"real\"__coeff_76', 'close__fft_coefficient__attr_\"real\"__coeff_77', 'close__fft_coefficient__attr_\"real\"__coeff_78', 'close__fft_coefficient__attr_\"real\"__coeff_79', 'close__fft_coefficient__attr_\"real\"__coeff_80', 'close__fft_coefficient__attr_\"real\"__coeff_81', 'close__fft_coefficient__attr_\"real\"__coeff_82', 'close__fft_coefficient__attr_\"real\"__coeff_83', 'close__fft_coefficient__attr_\"real\"__coeff_84', 'close__fft_coefficient__attr_\"real\"__coeff_85', 'close__fft_coefficient__attr_\"real\"__coeff_86', 'close__fft_coefficient__attr_\"real\"__coeff_87', 'close__fft_coefficient__attr_\"real\"__coeff_88', 'close__fft_coefficient__attr_\"real\"__coeff_89', 'close__fft_coefficient__attr_\"real\"__coeff_90', 'close__fft_coefficient__attr_\"real\"__coeff_91', 'close__fft_coefficient__attr_\"real\"__coeff_92', 'close__fft_coefficient__attr_\"real\"__coeff_93', 'close__fft_coefficient__attr_\"real\"__coeff_94', 'close__fft_coefficient__attr_\"real\"__coeff_95', 'close__fft_coefficient__attr_\"real\"__coeff_96', 'close__fft_coefficient__attr_\"real\"__coeff_97', 'close__fft_coefficient__attr_\"real\"__coeff_98', 'close__fft_coefficient__attr_\"real\"__coeff_99', 'close__fft_coefficient__attr_\"imag\"__coeff_1', 'close__fft_coefficient__attr_\"imag\"__coeff_2', 'close__fft_coefficient__attr_\"imag\"__coeff_3', 'close__fft_coefficient__attr_\"imag\"__coeff_4', 'close__fft_coefficient__attr_\"imag\"__coeff_5', 'close__fft_coefficient__attr_\"imag\"__coeff_6', 'close__fft_coefficient__attr_\"imag\"__coeff_7', 'close__fft_coefficient__attr_\"imag\"__coeff_8', 'close__fft_coefficient__attr_\"imag\"__coeff_9', 'close__fft_coefficient__attr_\"imag\"__coeff_10', 'close__fft_coefficient__attr_\"imag\"__coeff_11', 'close__fft_coefficient__attr_\"imag\"__coeff_12', 'close__fft_coefficient__attr_\"imag\"__coeff_13', 'close__fft_coefficient__attr_\"imag\"__coeff_14', 'close__fft_coefficient__attr_\"imag\"__coeff_15', 'close__fft_coefficient__attr_\"imag\"__coeff_16', 'close__fft_coefficient__attr_\"imag\"__coeff_17', 'close__fft_coefficient__attr_\"imag\"__coeff_18', 'close__fft_coefficient__attr_\"imag\"__coeff_19', 'close__fft_coefficient__attr_\"imag\"__coeff_20', 'close__fft_coefficient__attr_\"imag\"__coeff_21', 'close__fft_coefficient__attr_\"imag\"__coeff_22', 'close__fft_coefficient__attr_\"imag\"__coeff_23', 'close__fft_coefficient__attr_\"imag\"__coeff_24', 'close__fft_coefficient__attr_\"imag\"__coeff_25', 'close__fft_coefficient__attr_\"imag\"__coeff_26', 'close__fft_coefficient__attr_\"imag\"__coeff_27', 'close__fft_coefficient__attr_\"imag\"__coeff_28', 'close__fft_coefficient__attr_\"imag\"__coeff_29', 'close__fft_coefficient__attr_\"imag\"__coeff_30', 'close__fft_coefficient__attr_\"imag\"__coeff_31', 'close__fft_coefficient__attr_\"imag\"__coeff_32', 'close__fft_coefficient__attr_\"imag\"__coeff_33', 'close__fft_coefficient__attr_\"imag\"__coeff_34', 'close__fft_coefficient__attr_\"imag\"__coeff_35', 'close__fft_coefficient__attr_\"imag\"__coeff_36', 'close__fft_coefficient__attr_\"imag\"__coeff_37', 'close__fft_coefficient__attr_\"imag\"__coeff_38', 'close__fft_coefficient__attr_\"imag\"__coeff_39', 'close__fft_coefficient__attr_\"imag\"__coeff_40', 'close__fft_coefficient__attr_\"imag\"__coeff_41', 'close__fft_coefficient__attr_\"imag\"__coeff_42', 'close__fft_coefficient__attr_\"imag\"__coeff_43', 'close__fft_coefficient__attr_\"imag\"__coeff_44', 'close__fft_coefficient__attr_\"imag\"__coeff_45', 'close__fft_coefficient__attr_\"imag\"__coeff_46', 'close__fft_coefficient__attr_\"imag\"__coeff_47', 'close__fft_coefficient__attr_\"imag\"__coeff_48', 'close__fft_coefficient__attr_\"imag\"__coeff_49', 'close__fft_coefficient__attr_\"imag\"__coeff_50', 'close__fft_coefficient__attr_\"imag\"__coeff_51', 'close__fft_coefficient__attr_\"imag\"__coeff_52', 'close__fft_coefficient__attr_\"imag\"__coeff_53', 'close__fft_coefficient__attr_\"imag\"__coeff_54', 'close__fft_coefficient__attr_\"imag\"__coeff_55', 'close__fft_coefficient__attr_\"imag\"__coeff_56', 'close__fft_coefficient__attr_\"imag\"__coeff_57', 'close__fft_coefficient__attr_\"imag\"__coeff_58', 'close__fft_coefficient__attr_\"imag\"__coeff_59', 'close__fft_coefficient__attr_\"imag\"__coeff_60', 'close__fft_coefficient__attr_\"imag\"__coeff_61', 'close__fft_coefficient__attr_\"imag\"__coeff_62', 'close__fft_coefficient__attr_\"imag\"__coeff_63', 'close__fft_coefficient__attr_\"imag\"__coeff_64', 'close__fft_coefficient__attr_\"imag\"__coeff_65', 'close__fft_coefficient__attr_\"imag\"__coeff_66', 'close__fft_coefficient__attr_\"imag\"__coeff_67', 'close__fft_coefficient__attr_\"imag\"__coeff_68', 'close__fft_coefficient__attr_\"imag\"__coeff_69', 'close__fft_coefficient__attr_\"imag\"__coeff_70', 'close__fft_coefficient__attr_\"imag\"__coeff_71', 'close__fft_coefficient__attr_\"imag\"__coeff_72', 'close__fft_coefficient__attr_\"imag\"__coeff_73', 'close__fft_coefficient__attr_\"imag\"__coeff_74', 'close__fft_coefficient__attr_\"imag\"__coeff_75', 'close__fft_coefficient__attr_\"imag\"__coeff_76', 'close__fft_coefficient__attr_\"imag\"__coeff_77', 'close__fft_coefficient__attr_\"imag\"__coeff_78', 'close__fft_coefficient__attr_\"imag\"__coeff_79', 'close__fft_coefficient__attr_\"imag\"__coeff_80', 'close__fft_coefficient__attr_\"imag\"__coeff_81', 'close__fft_coefficient__attr_\"imag\"__coeff_82', 'close__fft_coefficient__attr_\"imag\"__coeff_83', 'close__fft_coefficient__attr_\"imag\"__coeff_84', 'close__fft_coefficient__attr_\"imag\"__coeff_85', 'close__fft_coefficient__attr_\"imag\"__coeff_86', 'close__fft_coefficient__attr_\"imag\"__coeff_87', 'close__fft_coefficient__attr_\"imag\"__coeff_88', 'close__fft_coefficient__attr_\"imag\"__coeff_89', 'close__fft_coefficient__attr_\"imag\"__coeff_90', 'close__fft_coefficient__attr_\"imag\"__coeff_91', 'close__fft_coefficient__attr_\"imag\"__coeff_92', 'close__fft_coefficient__attr_\"imag\"__coeff_93', 'close__fft_coefficient__attr_\"imag\"__coeff_94', 'close__fft_coefficient__attr_\"imag\"__coeff_95', 'close__fft_coefficient__attr_\"imag\"__coeff_96', 'close__fft_coefficient__attr_\"imag\"__coeff_97', 'close__fft_coefficient__attr_\"imag\"__coeff_98', 'close__fft_coefficient__attr_\"imag\"__coeff_99', 'close__fft_coefficient__attr_\"abs\"__coeff_0', 'close__fft_coefficient__attr_\"abs\"__coeff_1', 'close__fft_coefficient__attr_\"abs\"__coeff_2', 'close__fft_coefficient__attr_\"abs\"__coeff_3', 'close__fft_coefficient__attr_\"abs\"__coeff_4', 'close__fft_coefficient__attr_\"abs\"__coeff_5', 'close__fft_coefficient__attr_\"abs\"__coeff_6', 'close__fft_coefficient__attr_\"abs\"__coeff_7', 'close__fft_coefficient__attr_\"abs\"__coeff_8', 'close__fft_coefficient__attr_\"abs\"__coeff_9', 'close__fft_coefficient__attr_\"abs\"__coeff_10', 'close__fft_coefficient__attr_\"abs\"__coeff_11', 'close__fft_coefficient__attr_\"abs\"__coeff_12', 'close__fft_coefficient__attr_\"abs\"__coeff_13', 'close__fft_coefficient__attr_\"abs\"__coeff_14', 'close__fft_coefficient__attr_\"abs\"__coeff_15', 'close__fft_coefficient__attr_\"abs\"__coeff_16', 'close__fft_coefficient__attr_\"abs\"__coeff_17', 'close__fft_coefficient__attr_\"abs\"__coeff_18', 'close__fft_coefficient__attr_\"abs\"__coeff_19', 'close__fft_coefficient__attr_\"abs\"__coeff_20', 'close__fft_coefficient__attr_\"abs\"__coeff_21', 'close__fft_coefficient__attr_\"abs\"__coeff_22', 'close__fft_coefficient__attr_\"abs\"__coeff_23', 'close__fft_coefficient__attr_\"abs\"__coeff_24', 'close__fft_coefficient__attr_\"abs\"__coeff_25', 'close__fft_coefficient__attr_\"abs\"__coeff_26', 'close__fft_coefficient__attr_\"abs\"__coeff_27', 'close__fft_coefficient__attr_\"abs\"__coeff_28', 'close__fft_coefficient__attr_\"abs\"__coeff_29', 'close__fft_coefficient__attr_\"abs\"__coeff_30', 'close__fft_coefficient__attr_\"abs\"__coeff_31', 'close__fft_coefficient__attr_\"abs\"__coeff_32', 'close__fft_coefficient__attr_\"abs\"__coeff_33', 'close__fft_coefficient__attr_\"abs\"__coeff_34', 'close__fft_coefficient__attr_\"abs\"__coeff_35', 'close__fft_coefficient__attr_\"abs\"__coeff_36', 'close__fft_coefficient__attr_\"abs\"__coeff_37', 'close__fft_coefficient__attr_\"abs\"__coeff_38', 'close__fft_coefficient__attr_\"abs\"__coeff_39', 'close__fft_coefficient__attr_\"abs\"__coeff_40', 'close__fft_coefficient__attr_\"abs\"__coeff_41', 'close__fft_coefficient__attr_\"abs\"__coeff_42', 'close__fft_coefficient__attr_\"abs\"__coeff_43', 'close__fft_coefficient__attr_\"abs\"__coeff_44', 'close__fft_coefficient__attr_\"abs\"__coeff_45', 'close__fft_coefficient__attr_\"abs\"__coeff_46', 'close__fft_coefficient__attr_\"abs\"__coeff_47', 'close__fft_coefficient__attr_\"abs\"__coeff_48', 'close__fft_coefficient__attr_\"abs\"__coeff_49', 'close__fft_coefficient__attr_\"abs\"__coeff_50', 'close__fft_coefficient__attr_\"abs\"__coeff_51', 'close__fft_coefficient__attr_\"abs\"__coeff_52', 'close__fft_coefficient__attr_\"abs\"__coeff_53', 'close__fft_coefficient__attr_\"abs\"__coeff_54', 'close__fft_coefficient__attr_\"abs\"__coeff_55', 'close__fft_coefficient__attr_\"abs\"__coeff_56', 'close__fft_coefficient__attr_\"abs\"__coeff_57', 'close__fft_coefficient__attr_\"abs\"__coeff_58', 'close__fft_coefficient__attr_\"abs\"__coeff_59', 'close__fft_coefficient__attr_\"abs\"__coeff_60', 'close__fft_coefficient__attr_\"abs\"__coeff_61', 'close__fft_coefficient__attr_\"abs\"__coeff_62', 'close__fft_coefficient__attr_\"abs\"__coeff_63', 'close__fft_coefficient__attr_\"abs\"__coeff_64', 'close__fft_coefficient__attr_\"abs\"__coeff_65', 'close__fft_coefficient__attr_\"abs\"__coeff_66', 'close__fft_coefficient__attr_\"abs\"__coeff_67', 'close__fft_coefficient__attr_\"abs\"__coeff_68', 'close__fft_coefficient__attr_\"abs\"__coeff_69', 'close__fft_coefficient__attr_\"abs\"__coeff_70', 'close__fft_coefficient__attr_\"abs\"__coeff_71', 'close__fft_coefficient__attr_\"abs\"__coeff_72', 'close__fft_coefficient__attr_\"abs\"__coeff_73', 'close__fft_coefficient__attr_\"abs\"__coeff_74', 'close__fft_coefficient__attr_\"abs\"__coeff_75', 'close__fft_coefficient__attr_\"abs\"__coeff_76', 'close__fft_coefficient__attr_\"abs\"__coeff_77', 'close__fft_coefficient__attr_\"abs\"__coeff_78', 'close__fft_coefficient__attr_\"abs\"__coeff_79', 'close__fft_coefficient__attr_\"abs\"__coeff_80', 'close__fft_coefficient__attr_\"abs\"__coeff_81', 'close__fft_coefficient__attr_\"abs\"__coeff_82', 'close__fft_coefficient__attr_\"abs\"__coeff_83', 'close__fft_coefficient__attr_\"abs\"__coeff_84', 'close__fft_coefficient__attr_\"abs\"__coeff_85', 'close__fft_coefficient__attr_\"abs\"__coeff_86', 'close__fft_coefficient__attr_\"abs\"__coeff_87', 'close__fft_coefficient__attr_\"abs\"__coeff_88', 'close__fft_coefficient__attr_\"abs\"__coeff_89', 'close__fft_coefficient__attr_\"abs\"__coeff_90', 'close__fft_coefficient__attr_\"abs\"__coeff_91', 'close__fft_coefficient__attr_\"abs\"__coeff_92', 'close__fft_coefficient__attr_\"abs\"__coeff_93', 'close__fft_coefficient__attr_\"abs\"__coeff_94', 'close__fft_coefficient__attr_\"abs\"__coeff_95', 'close__fft_coefficient__attr_\"abs\"__coeff_96', 'close__fft_coefficient__attr_\"abs\"__coeff_97', 'close__fft_coefficient__attr_\"abs\"__coeff_98', 'close__fft_coefficient__attr_\"abs\"__coeff_99', 'close__fft_aggregated__aggtype_\"variance\"', 'close__fft_aggregated__aggtype_\"skew\"', 'close__fft_aggregated__aggtype_\"kurtosis\"', 'close__range_count__max_1__min_-1', 'close__range_count__max_1000000000000.0__min_0', 'close__approximate_entropy__m_2__r_0.3', 'close__approximate_entropy__m_2__r_0.5', 'close__approximate_entropy__m_2__r_0.7', 'close__friedrich_coefficients__coeff_0__m_3__r_30', 'close__friedrich_coefficients__coeff_1__m_3__r_30', 'close__friedrich_coefficients__coeff_2__m_3__r_30', 'close__friedrich_coefficients__coeff_3__m_3__r_30', 'close__linear_trend__attr_\"intercept\"', 'close__linear_trend__attr_\"stderr\"', 'close__agg_linear_trend__attr_\"intercept\"__chunk_len_5__f_agg_\"max\"', 'close__agg_linear_trend__attr_\"intercept\"__chunk_len_5__f_agg_\"mean\"', 'close__agg_linear_trend__attr_\"intercept\"__chunk_len_5__f_agg_\"var\"', 'close__agg_linear_trend__attr_\"intercept\"__chunk_len_10__f_agg_\"max\"', 'close__agg_linear_trend__attr_\"intercept\"__chunk_len_10__f_agg_\"min\"', 'close__agg_linear_trend__attr_\"intercept\"__chunk_len_10__f_agg_\"mean\"', 'close__agg_linear_trend__attr_\"intercept\"__chunk_len_10__f_agg_\"var\"', 'close__agg_linear_trend__attr_\"intercept\"__chunk_len_50__f_agg_\"max\"', 'close__agg_linear_trend__attr_\"intercept\"__chunk_len_50__f_agg_\"mean\"', 'close__agg_linear_trend__attr_\"intercept\"__chunk_len_50__f_agg_\"var\"', 'close__agg_linear_trend__attr_\"slope\"__chunk_len_5__f_agg_\"max\"', 'close__agg_linear_trend__attr_\"slope\"__chunk_len_5__f_agg_\"var\"', 'close__agg_linear_trend__attr_\"slope\"__chunk_len_10__f_agg_\"max\"', 'close__agg_linear_trend__attr_\"slope\"__chunk_len_10__f_agg_\"var\"', 'close__agg_linear_trend__attr_\"stderr\"__chunk_len_5__f_agg_\"max\"', 'close__agg_linear_trend__attr_\"stderr\"__chunk_len_5__f_agg_\"mean\"', 'close__agg_linear_trend__attr_\"stderr\"__chunk_len_5__f_agg_\"var\"', 'close__agg_linear_trend__attr_\"stderr\"__chunk_len_10__f_agg_\"max\"', 'close__agg_linear_trend__attr_\"stderr\"__chunk_len_10__f_agg_\"mean\"', 'close__agg_linear_trend__attr_\"stderr\"__chunk_len_10__f_agg_\"var\"', 'close__agg_linear_trend__attr_\"stderr\"__chunk_len_50__f_agg_\"max\"', 'close__agg_linear_trend__attr_\"stderr\"__chunk_len_50__f_agg_\"mean\"', 'close__agg_linear_trend__attr_\"stderr\"__chunk_len_50__f_agg_\"var\"', 'close__number_crossing_m__m_1', 'close__lempel_ziv_complexity__bins_2', 'close__lempel_ziv_complexity__bins_5', 'close__lempel_ziv_complexity__bins_100', 'close__permutation_entropy__dimension_3__tau_1', 'close__permutation_entropy__dimension_4__tau_1', 'close__permutation_entropy__dimension_7__tau_1', 'close__mean_n_absolute_max__number_of_maxima_7', 'momentum__sum_values', 'momentum__abs_energy', 'momentum__mean_abs_change', 'momentum__mean_change', 'momentum__mean_second_derivative_central', 'momentum__median', 'momentum__mean', 'momentum__length', 'momentum__standard_deviation', 'momentum__variation_coefficient', 'momentum__variance', 'momentum__kurtosis', 'momentum__root_mean_square', 'momentum__absolute_sum_of_changes', 'momentum__count_above_mean', 'momentum__count_below_mean', 'momentum__last_location_of_maximum', 'momentum__first_location_of_minimum', 'momentum__maximum', 'momentum__absolute_maximum', 'momentum__time_reversal_asymmetry_statistic__lag_1', 'momentum__time_reversal_asymmetry_statistic__lag_2', 'momentum__time_reversal_asymmetry_statistic__lag_3', 'momentum__c3__lag_1', 'momentum__c3__lag_2', 'momentum__cid_ce__normalize_True', 'momentum__cid_ce__normalize_False', 'momentum__quantile__q_0.1', 'momentum__quantile__q_0.2', 'momentum__quantile__q_0.3', 'momentum__partial_autocorrelation__lag_1', 'momentum__number_cwt_peaks__n_1', 'momentum__number_cwt_peaks__n_5', 'momentum__number_peaks__n_1', 'momentum__number_peaks__n_3', 'momentum__number_peaks__n_5', 'momentum__number_peaks__n_10', 'momentum__index_mass_quantile__q_0.7', 'momentum__cwt_coefficients__coeff_0__w_5__widths_(2, 5, 10, 20)', 'momentum__cwt_coefficients__coeff_0__w_10__widths_(2, 5, 10, 20)', 'momentum__cwt_coefficients__coeff_0__w_20__widths_(2, 5, 10, 20)', 'momentum__cwt_coefficients__coeff_1__w_10__widths_(2, 5, 10, 20)', 'momentum__cwt_coefficients__coeff_1__w_20__widths_(2, 5, 10, 20)', 'momentum__cwt_coefficients__coeff_2__w_5__widths_(2, 5, 10, 20)', 'momentum__cwt_coefficients__coeff_2__w_10__widths_(2, 5, 10, 20)', 'momentum__cwt_coefficients__coeff_2__w_20__widths_(2, 5, 10, 20)', 'momentum__cwt_coefficients__coeff_3__w_20__widths_(2, 5, 10, 20)', 'momentum__cwt_coefficients__coeff_4__w_5__widths_(2, 5, 10, 20)', 'momentum__cwt_coefficients__coeff_4__w_10__widths_(2, 5, 10, 20)', 'momentum__cwt_coefficients__coeff_4__w_20__widths_(2, 5, 10, 20)', 'momentum__cwt_coefficients__coeff_5__w_10__widths_(2, 5, 10, 20)', 'momentum__cwt_coefficients__coeff_5__w_20__widths_(2, 5, 10, 20)', 'momentum__cwt_coefficients__coeff_7__w_5__widths_(2, 5, 10, 20)', 'momentum__cwt_coefficients__coeff_7__w_10__widths_(2, 5, 10, 20)', 'momentum__cwt_coefficients__coeff_7__w_20__widths_(2, 5, 10, 20)', 'momentum__cwt_coefficients__coeff_8__w_10__widths_(2, 5, 10, 20)', 'momentum__cwt_coefficients__coeff_8__w_20__widths_(2, 5, 10, 20)', 'momentum__cwt_coefficients__coeff_9__w_2__widths_(2, 5, 10, 20)', 'momentum__cwt_coefficients__coeff_9__w_5__widths_(2, 5, 10, 20)', 'momentum__cwt_coefficients__coeff_9__w_10__widths_(2, 5, 10, 20)', 'momentum__cwt_coefficients__coeff_9__w_20__widths_(2, 5, 10, 20)', 'momentum__cwt_coefficients__coeff_10__w_5__widths_(2, 5, 10, 20)', 'momentum__cwt_coefficients__coeff_10__w_20__widths_(2, 5, 10, 20)', 'momentum__cwt_coefficients__coeff_11__w_10__widths_(2, 5, 10, 20)', 'momentum__cwt_coefficients__coeff_12__w_10__widths_(2, 5, 10, 20)', 'momentum__cwt_coefficients__coeff_12__w_20__widths_(2, 5, 10, 20)', 'momentum__cwt_coefficients__coeff_13__w_5__widths_(2, 5, 10, 20)', 'momentum__cwt_coefficients__coeff_13__w_10__widths_(2, 5, 10, 20)', 'momentum__cwt_coefficients__coeff_13__w_20__widths_(2, 5, 10, 20)', 'momentum__cwt_coefficients__coeff_14__w_2__widths_(2, 5, 10, 20)', 'momentum__cwt_coefficients__coeff_14__w_20__widths_(2, 5, 10, 20)', 'momentum__spkt_welch_density__coeff_2', 'momentum__spkt_welch_density__coeff_5', 'momentum__spkt_welch_density__coeff_8', 'momentum__change_quantiles__f_agg_\"var\"__isabs_False__qh_0.2__ql_0.0', 'momentum__change_quantiles__f_agg_\"mean\"__isabs_True__qh_0.4__ql_0.0', 'momentum__change_quantiles__f_agg_\"var\"__isabs_True__qh_0.4__ql_0.0', 'momentum__change_quantiles__f_agg_\"var\"__isabs_True__qh_0.6__ql_0.0', 'momentum__change_quantiles__f_agg_\"var\"__isabs_False__qh_0.8__ql_0.0', 'momentum__change_quantiles__f_agg_\"mean\"__isabs_True__qh_0.8__ql_0.0', 'momentum__change_quantiles__f_agg_\"var\"__isabs_True__qh_0.8__ql_0.0', 'momentum__change_quantiles__f_agg_\"mean\"__isabs_False__qh_1.0__ql_0.0', 'momentum__change_quantiles__f_agg_\"var\"__isabs_False__qh_1.0__ql_0.0', 'momentum__change_quantiles__f_agg_\"mean\"__isabs_True__qh_1.0__ql_0.0', 'momentum__change_quantiles__f_agg_\"var\"__isabs_True__qh_1.0__ql_0.0', 'momentum__change_quantiles__f_agg_\"var\"__isabs_False__qh_0.8__ql_0.2', 'momentum__change_quantiles__f_agg_\"mean\"__isabs_True__qh_0.8__ql_0.2', 'momentum__change_quantiles__f_agg_\"var\"__isabs_False__qh_1.0__ql_0.2', 'momentum__change_quantiles__f_agg_\"var\"__isabs_True__qh_1.0__ql_0.2', 'momentum__change_quantiles__f_agg_\"mean\"__isabs_True__qh_0.8__ql_0.4', 'momentum__change_quantiles__f_agg_\"var\"__isabs_True__qh_0.8__ql_0.4', 'momentum__change_quantiles__f_agg_\"mean\"__isabs_False__qh_1.0__ql_0.4', 'momentum__change_quantiles__f_agg_\"var\"__isabs_False__qh_1.0__ql_0.4', 'momentum__change_quantiles__f_agg_\"mean\"__isabs_True__qh_1.0__ql_0.4', 'momentum__change_quantiles__f_agg_\"var\"__isabs_True__qh_1.0__ql_0.4', 'momentum__change_quantiles__f_agg_\"mean\"__isabs_False__qh_1.0__ql_0.6', 'momentum__change_quantiles__f_agg_\"var\"__isabs_False__qh_1.0__ql_0.6', 'momentum__change_quantiles__f_agg_\"mean\"__isabs_True__qh_1.0__ql_0.6', 'momentum__change_quantiles__f_agg_\"var\"__isabs_True__qh_1.0__ql_0.6', 'momentum__change_quantiles__f_agg_\"var\"__isabs_True__qh_1.0__ql_0.8', 'momentum__fft_coefficient__attr_\"real\"__coeff_0', 'momentum__fft_coefficient__attr_\"real\"__coeff_1', 'momentum__fft_coefficient__attr_\"real\"__coeff_2', 'momentum__fft_coefficient__attr_\"real\"__coeff_3', 'momentum__fft_coefficient__attr_\"real\"__coeff_4', 'momentum__fft_coefficient__attr_\"real\"__coeff_5', 'momentum__fft_coefficient__attr_\"real\"__coeff_6', 'momentum__fft_coefficient__attr_\"real\"__coeff_7', 'momentum__fft_coefficient__attr_\"real\"__coeff_8', 'momentum__fft_coefficient__attr_\"real\"__coeff_9', 'momentum__fft_coefficient__attr_\"real\"__coeff_10', 'momentum__fft_coefficient__attr_\"real\"__coeff_11', 'momentum__fft_coefficient__attr_\"real\"__coeff_12', 'momentum__fft_coefficient__attr_\"real\"__coeff_13', 'momentum__fft_coefficient__attr_\"real\"__coeff_14', 'momentum__fft_coefficient__attr_\"real\"__coeff_15', 'momentum__fft_coefficient__attr_\"real\"__coeff_16', 'momentum__fft_coefficient__attr_\"real\"__coeff_17', 'momentum__fft_coefficient__attr_\"real\"__coeff_18', 'momentum__fft_coefficient__attr_\"real\"__coeff_19', 'momentum__fft_coefficient__attr_\"real\"__coeff_20', 'momentum__fft_coefficient__attr_\"real\"__coeff_21', 'momentum__fft_coefficient__attr_\"real\"__coeff_23', 'momentum__fft_coefficient__attr_\"real\"__coeff_24', 'momentum__fft_coefficient__attr_\"real\"__coeff_25', 'momentum__fft_coefficient__attr_\"real\"__coeff_26', 'momentum__fft_coefficient__attr_\"real\"__coeff_27', 'momentum__fft_coefficient__attr_\"real\"__coeff_28', 'momentum__fft_coefficient__attr_\"real\"__coeff_29', 'momentum__fft_coefficient__attr_\"real\"__coeff_30', 'momentum__fft_coefficient__attr_\"real\"__coeff_31', 'momentum__fft_coefficient__attr_\"real\"__coeff_32', 'momentum__fft_coefficient__attr_\"real\"__coeff_33', 'momentum__fft_coefficient__attr_\"real\"__coeff_34', 'momentum__fft_coefficient__attr_\"real\"__coeff_35', 'momentum__fft_coefficient__attr_\"real\"__coeff_36', 'momentum__fft_coefficient__attr_\"real\"__coeff_37', 'momentum__fft_coefficient__attr_\"real\"__coeff_38', 'momentum__fft_coefficient__attr_\"real\"__coeff_39', 'momentum__fft_coefficient__attr_\"real\"__coeff_40', 'momentum__fft_coefficient__attr_\"real\"__coeff_41', 'momentum__fft_coefficient__attr_\"real\"__coeff_42', 'momentum__fft_coefficient__attr_\"real\"__coeff_43', 'momentum__fft_coefficient__attr_\"real\"__coeff_44', 'momentum__fft_coefficient__attr_\"real\"__coeff_45', 'momentum__fft_coefficient__attr_\"real\"__coeff_46', 'momentum__fft_coefficient__attr_\"real\"__coeff_47', 'momentum__fft_coefficient__attr_\"real\"__coeff_48', 'momentum__fft_coefficient__attr_\"real\"__coeff_49', 'momentum__fft_coefficient__attr_\"real\"__coeff_50', 'momentum__fft_coefficient__attr_\"real\"__coeff_51', 'momentum__fft_coefficient__attr_\"real\"__coeff_52', 'momentum__fft_coefficient__attr_\"real\"__coeff_53', 'momentum__fft_coefficient__attr_\"real\"__coeff_54', 'momentum__fft_coefficient__attr_\"real\"__coeff_55', 'momentum__fft_coefficient__attr_\"real\"__coeff_56', 'momentum__fft_coefficient__attr_\"real\"__coeff_58', 'momentum__fft_coefficient__attr_\"real\"__coeff_59', 'momentum__fft_coefficient__attr_\"real\"__coeff_60', 'momentum__fft_coefficient__attr_\"real\"__coeff_61', 'momentum__fft_coefficient__attr_\"real\"__coeff_62', 'momentum__fft_coefficient__attr_\"real\"__coeff_63', 'momentum__fft_coefficient__attr_\"real\"__coeff_64', 'momentum__fft_coefficient__attr_\"real\"__coeff_65', 'momentum__fft_coefficient__attr_\"real\"__coeff_66', 'momentum__fft_coefficient__attr_\"real\"__coeff_67', 'momentum__fft_coefficient__attr_\"real\"__coeff_68', 'momentum__fft_coefficient__attr_\"real\"__coeff_69', 'momentum__fft_coefficient__attr_\"real\"__coeff_70', 'momentum__fft_coefficient__attr_\"real\"__coeff_71', 'momentum__fft_coefficient__attr_\"real\"__coeff_72', 'momentum__fft_coefficient__attr_\"real\"__coeff_73', 'momentum__fft_coefficient__attr_\"real\"__coeff_74', 'momentum__fft_coefficient__attr_\"real\"__coeff_75', 'momentum__fft_coefficient__attr_\"real\"__coeff_76', 'momentum__fft_coefficient__attr_\"real\"__coeff_77', 'momentum__fft_coefficient__attr_\"real\"__coeff_78', 'momentum__fft_coefficient__attr_\"real\"__coeff_79', 'momentum__fft_coefficient__attr_\"real\"__coeff_80', 'momentum__fft_coefficient__attr_\"real\"__coeff_81', 'momentum__fft_coefficient__attr_\"real\"__coeff_82', 'momentum__fft_coefficient__attr_\"real\"__coeff_83', 'momentum__fft_coefficient__attr_\"real\"__coeff_84', 'momentum__fft_coefficient__attr_\"real\"__coeff_85', 'momentum__fft_coefficient__attr_\"real\"__coeff_86', 'momentum__fft_coefficient__attr_\"real\"__coeff_87', 'momentum__fft_coefficient__attr_\"real\"__coeff_88', 'momentum__fft_coefficient__attr_\"real\"__coeff_89', 'momentum__fft_coefficient__attr_\"real\"__coeff_90', 'momentum__fft_coefficient__attr_\"real\"__coeff_91', 'momentum__fft_coefficient__attr_\"real\"__coeff_92', 'momentum__fft_coefficient__attr_\"real\"__coeff_93', 'momentum__fft_coefficient__attr_\"real\"__coeff_94', 'momentum__fft_coefficient__attr_\"real\"__coeff_95', 'momentum__fft_coefficient__attr_\"real\"__coeff_96', 'momentum__fft_coefficient__attr_\"real\"__coeff_97', 'momentum__fft_coefficient__attr_\"real\"__coeff_98', 'momentum__fft_coefficient__attr_\"real\"__coeff_99', 'momentum__fft_coefficient__attr_\"imag\"__coeff_1', 'momentum__fft_coefficient__attr_\"imag\"__coeff_2', 'momentum__fft_coefficient__attr_\"imag\"__coeff_3', 'momentum__fft_coefficient__attr_\"imag\"__coeff_4', 'momentum__fft_coefficient__attr_\"imag\"__coeff_5', 'momentum__fft_coefficient__attr_\"imag\"__coeff_6', 'momentum__fft_coefficient__attr_\"imag\"__coeff_7', 'momentum__fft_coefficient__attr_\"imag\"__coeff_8', 'momentum__fft_coefficient__attr_\"imag\"__coeff_9', 'momentum__fft_coefficient__attr_\"imag\"__coeff_10', 'momentum__fft_coefficient__attr_\"imag\"__coeff_11', 'momentum__fft_coefficient__attr_\"imag\"__coeff_12', 'momentum__fft_coefficient__attr_\"imag\"__coeff_13', 'momentum__fft_coefficient__attr_\"imag\"__coeff_14', 'momentum__fft_coefficient__attr_\"imag\"__coeff_15', 'momentum__fft_coefficient__attr_\"imag\"__coeff_16', 'momentum__fft_coefficient__attr_\"imag\"__coeff_17', 'momentum__fft_coefficient__attr_\"imag\"__coeff_18', 'momentum__fft_coefficient__attr_\"imag\"__coeff_19', 'momentum__fft_coefficient__attr_\"imag\"__coeff_20', 'momentum__fft_coefficient__attr_\"imag\"__coeff_21', 'momentum__fft_coefficient__attr_\"imag\"__coeff_22', 'momentum__fft_coefficient__attr_\"imag\"__coeff_23', 'momentum__fft_coefficient__attr_\"imag\"__coeff_24', 'momentum__fft_coefficient__attr_\"imag\"__coeff_25', 'momentum__fft_coefficient__attr_\"imag\"__coeff_26', 'momentum__fft_coefficient__attr_\"imag\"__coeff_27', 'momentum__fft_coefficient__attr_\"imag\"__coeff_28', 'momentum__fft_coefficient__attr_\"imag\"__coeff_29', 'momentum__fft_coefficient__attr_\"imag\"__coeff_30', 'momentum__fft_coefficient__attr_\"imag\"__coeff_31', 'momentum__fft_coefficient__attr_\"imag\"__coeff_32', 'momentum__fft_coefficient__attr_\"imag\"__coeff_33', 'momentum__fft_coefficient__attr_\"imag\"__coeff_34', 'momentum__fft_coefficient__attr_\"imag\"__coeff_35', 'momentum__fft_coefficient__attr_\"imag\"__coeff_36', 'momentum__fft_coefficient__attr_\"imag\"__coeff_37', 'momentum__fft_coefficient__attr_\"imag\"__coeff_38', 'momentum__fft_coefficient__attr_\"imag\"__coeff_39', 'momentum__fft_coefficient__attr_\"imag\"__coeff_40', 'momentum__fft_coefficient__attr_\"imag\"__coeff_41', 'momentum__fft_coefficient__attr_\"imag\"__coeff_42', 'momentum__fft_coefficient__attr_\"imag\"__coeff_43', 'momentum__fft_coefficient__attr_\"imag\"__coeff_44', 'momentum__fft_coefficient__attr_\"imag\"__coeff_45', 'momentum__fft_coefficient__attr_\"imag\"__coeff_46', 'momentum__fft_coefficient__attr_\"imag\"__coeff_47', 'momentum__fft_coefficient__attr_\"imag\"__coeff_48', 'momentum__fft_coefficient__attr_\"imag\"__coeff_49', 'momentum__fft_coefficient__attr_\"imag\"__coeff_50', 'momentum__fft_coefficient__attr_\"imag\"__coeff_51', 'momentum__fft_coefficient__attr_\"imag\"__coeff_52', 'momentum__fft_coefficient__attr_\"imag\"__coeff_53', 'momentum__fft_coefficient__attr_\"imag\"__coeff_54', 'momentum__fft_coefficient__attr_\"imag\"__coeff_55', 'momentum__fft_coefficient__attr_\"imag\"__coeff_56', 'momentum__fft_coefficient__attr_\"imag\"__coeff_57', 'momentum__fft_coefficient__attr_\"imag\"__coeff_58', 'momentum__fft_coefficient__attr_\"imag\"__coeff_59', 'momentum__fft_coefficient__attr_\"imag\"__coeff_60', 'momentum__fft_coefficient__attr_\"imag\"__coeff_61', 'momentum__fft_coefficient__attr_\"imag\"__coeff_62', 'momentum__fft_coefficient__attr_\"imag\"__coeff_63', 'momentum__fft_coefficient__attr_\"imag\"__coeff_64', 'momentum__fft_coefficient__attr_\"imag\"__coeff_65', 'momentum__fft_coefficient__attr_\"imag\"__coeff_66', 'momentum__fft_coefficient__attr_\"imag\"__coeff_67', 'momentum__fft_coefficient__attr_\"imag\"__coeff_68', 'momentum__fft_coefficient__attr_\"imag\"__coeff_69', 'momentum__fft_coefficient__attr_\"imag\"__coeff_70', 'momentum__fft_coefficient__attr_\"imag\"__coeff_71', 'momentum__fft_coefficient__attr_\"imag\"__coeff_72', 'momentum__fft_coefficient__attr_\"imag\"__coeff_73', 'momentum__fft_coefficient__attr_\"imag\"__coeff_74', 'momentum__fft_coefficient__attr_\"imag\"__coeff_75', 'momentum__fft_coefficient__attr_\"imag\"__coeff_76', 'momentum__fft_coefficient__attr_\"imag\"__coeff_77', 'momentum__fft_coefficient__attr_\"imag\"__coeff_78', 'momentum__fft_coefficient__attr_\"imag\"__coeff_79', 'momentum__fft_coefficient__attr_\"imag\"__coeff_80', 'momentum__fft_coefficient__attr_\"imag\"__coeff_81', 'momentum__fft_coefficient__attr_\"imag\"__coeff_82', 'momentum__fft_coefficient__attr_\"imag\"__coeff_83', 'momentum__fft_coefficient__attr_\"imag\"__coeff_84', 'momentum__fft_coefficient__attr_\"imag\"__coeff_85', 'momentum__fft_coefficient__attr_\"imag\"__coeff_86', 'momentum__fft_coefficient__attr_\"imag\"__coeff_87', 'momentum__fft_coefficient__attr_\"imag\"__coeff_88', 'momentum__fft_coefficient__attr_\"imag\"__coeff_89', 'momentum__fft_coefficient__attr_\"imag\"__coeff_90', 'momentum__fft_coefficient__attr_\"imag\"__coeff_91', 'momentum__fft_coefficient__attr_\"imag\"__coeff_92', 'momentum__fft_coefficient__attr_\"imag\"__coeff_93', 'momentum__fft_coefficient__attr_\"imag\"__coeff_94', 'momentum__fft_coefficient__attr_\"imag\"__coeff_95', 'momentum__fft_coefficient__attr_\"imag\"__coeff_96', 'momentum__fft_coefficient__attr_\"imag\"__coeff_97', 'momentum__fft_coefficient__attr_\"imag\"__coeff_98', 'momentum__fft_coefficient__attr_\"imag\"__coeff_99', 'momentum__fft_coefficient__attr_\"abs\"__coeff_0', 'momentum__fft_coefficient__attr_\"abs\"__coeff_1', 'momentum__fft_coefficient__attr_\"abs\"__coeff_2', 'momentum__fft_coefficient__attr_\"abs\"__coeff_3', 'momentum__fft_coefficient__attr_\"abs\"__coeff_4', 'momentum__fft_coefficient__attr_\"abs\"__coeff_5', 'momentum__fft_coefficient__attr_\"abs\"__coeff_6', 'momentum__fft_coefficient__attr_\"abs\"__coeff_7', 'momentum__fft_coefficient__attr_\"abs\"__coeff_8', 'momentum__fft_coefficient__attr_\"abs\"__coeff_9', 'momentum__fft_coefficient__attr_\"abs\"__coeff_10', 'momentum__fft_coefficient__attr_\"abs\"__coeff_11', 'momentum__fft_coefficient__attr_\"abs\"__coeff_12', 'momentum__fft_coefficient__attr_\"abs\"__coeff_13', 'momentum__fft_coefficient__attr_\"abs\"__coeff_14', 'momentum__fft_coefficient__attr_\"abs\"__coeff_15', 'momentum__fft_coefficient__attr_\"abs\"__coeff_16', 'momentum__fft_coefficient__attr_\"abs\"__coeff_17', 'momentum__fft_coefficient__attr_\"abs\"__coeff_18', 'momentum__fft_coefficient__attr_\"abs\"__coeff_19', 'momentum__fft_coefficient__attr_\"abs\"__coeff_20', 'momentum__fft_coefficient__attr_\"abs\"__coeff_21', 'momentum__fft_coefficient__attr_\"abs\"__coeff_22', 'momentum__fft_coefficient__attr_\"abs\"__coeff_23', 'momentum__fft_coefficient__attr_\"abs\"__coeff_24', 'momentum__fft_coefficient__attr_\"abs\"__coeff_25', 'momentum__fft_coefficient__attr_\"abs\"__coeff_26', 'momentum__fft_coefficient__attr_\"abs\"__coeff_27', 'momentum__fft_coefficient__attr_\"abs\"__coeff_28', 'momentum__fft_coefficient__attr_\"abs\"__coeff_29', 'momentum__fft_coefficient__attr_\"abs\"__coeff_30', 'momentum__fft_coefficient__attr_\"abs\"__coeff_31', 'momentum__fft_coefficient__attr_\"abs\"__coeff_32', 'momentum__fft_coefficient__attr_\"abs\"__coeff_33', 'momentum__fft_coefficient__attr_\"abs\"__coeff_34', 'momentum__fft_coefficient__attr_\"abs\"__coeff_35', 'momentum__fft_coefficient__attr_\"abs\"__coeff_36', 'momentum__fft_coefficient__attr_\"abs\"__coeff_37', 'momentum__fft_coefficient__attr_\"abs\"__coeff_38', 'momentum__fft_coefficient__attr_\"abs\"__coeff_39', 'momentum__fft_coefficient__attr_\"abs\"__coeff_40', 'momentum__fft_coefficient__attr_\"abs\"__coeff_41', 'momentum__fft_coefficient__attr_\"abs\"__coeff_42', 'momentum__fft_coefficient__attr_\"abs\"__coeff_43', 'momentum__fft_coefficient__attr_\"abs\"__coeff_44', 'momentum__fft_coefficient__attr_\"abs\"__coeff_45', 'momentum__fft_coefficient__attr_\"abs\"__coeff_46', 'momentum__fft_coefficient__attr_\"abs\"__coeff_47', 'momentum__fft_coefficient__attr_\"abs\"__coeff_48', 'momentum__fft_coefficient__attr_\"abs\"__coeff_49', 'momentum__fft_coefficient__attr_\"abs\"__coeff_50', 'momentum__fft_coefficient__attr_\"abs\"__coeff_51', 'momentum__fft_coefficient__attr_\"abs\"__coeff_52', 'momentum__fft_coefficient__attr_\"abs\"__coeff_53', 'momentum__fft_coefficient__attr_\"abs\"__coeff_54', 'momentum__fft_coefficient__attr_\"abs\"__coeff_55', 'momentum__fft_coefficient__attr_\"abs\"__coeff_56', 'momentum__fft_coefficient__attr_\"abs\"__coeff_57', 'momentum__fft_coefficient__attr_\"abs\"__coeff_58', 'momentum__fft_coefficient__attr_\"abs\"__coeff_59', 'momentum__fft_coefficient__attr_\"abs\"__coeff_60', 'momentum__fft_coefficient__attr_\"abs\"__coeff_61', 'momentum__fft_coefficient__attr_\"abs\"__coeff_62', 'momentum__fft_coefficient__attr_\"abs\"__coeff_63', 'momentum__fft_coefficient__attr_\"abs\"__coeff_64', 'momentum__fft_coefficient__attr_\"abs\"__coeff_65', 'momentum__fft_coefficient__attr_\"abs\"__coeff_66', 'momentum__fft_coefficient__attr_\"abs\"__coeff_67', 'momentum__fft_coefficient__attr_\"abs\"__coeff_68', 'momentum__fft_coefficient__attr_\"abs\"__coeff_69', 'momentum__fft_coefficient__attr_\"abs\"__coeff_70', 'momentum__fft_coefficient__attr_\"abs\"__coeff_71', 'momentum__fft_coefficient__attr_\"abs\"__coeff_72', 'momentum__fft_coefficient__attr_\"abs\"__coeff_73', 'momentum__fft_coefficient__attr_\"abs\"__coeff_74', 'momentum__fft_coefficient__attr_\"abs\"__coeff_75', 'momentum__fft_coefficient__attr_\"abs\"__coeff_76', 'momentum__fft_coefficient__attr_\"abs\"__coeff_77', 'momentum__fft_coefficient__attr_\"abs\"__coeff_78', 'momentum__fft_coefficient__attr_\"abs\"__coeff_79', 'momentum__fft_coefficient__attr_\"abs\"__coeff_80', 'momentum__fft_coefficient__attr_\"abs\"__coeff_81', 'momentum__fft_coefficient__attr_\"abs\"__coeff_82', 'momentum__fft_coefficient__attr_\"abs\"__coeff_83', 'momentum__fft_coefficient__attr_\"abs\"__coeff_84', 'momentum__fft_coefficient__attr_\"abs\"__coeff_85', 'momentum__fft_coefficient__attr_\"abs\"__coeff_86', 'momentum__fft_coefficient__attr_\"abs\"__coeff_87', 'momentum__fft_coefficient__attr_\"abs\"__coeff_88', 'momentum__fft_coefficient__attr_\"abs\"__coeff_89', 'momentum__fft_coefficient__attr_\"abs\"__coeff_90', 'momentum__fft_coefficient__attr_\"abs\"__coeff_91', 'momentum__fft_coefficient__attr_\"abs\"__coeff_92', 'momentum__fft_coefficient__attr_\"abs\"__coeff_93', 'momentum__fft_coefficient__attr_\"abs\"__coeff_94', 'momentum__fft_coefficient__attr_\"abs\"__coeff_95', 'momentum__fft_coefficient__attr_\"abs\"__coeff_96', 'momentum__fft_coefficient__attr_\"abs\"__coeff_97', 'momentum__fft_coefficient__attr_\"abs\"__coeff_98', 'momentum__fft_coefficient__attr_\"abs\"__coeff_99', 'momentum__fft_aggregated__aggtype_\"centroid\"', 'momentum__fft_aggregated__aggtype_\"variance\"', 'momentum__range_count__max_1__min_-1', 'momentum__range_count__max_1000000000000.0__min_0', 'momentum__approximate_entropy__m_2__r_0.1', 'momentum__approximate_entropy__m_2__r_0.3', 'momentum__approximate_entropy__m_2__r_0.5', 'momentum__approximate_entropy__m_2__r_0.7', 'momentum__friedrich_coefficients__coeff_0__m_3__r_30', 'momentum__friedrich_coefficients__coeff_2__m_3__r_30', 'momentum__friedrich_coefficients__coeff_3__m_3__r_30', 'momentum__linear_trend__attr_\"intercept\"', 'momentum__linear_trend__attr_\"slope\"', 'momentum__agg_linear_trend__attr_\"intercept\"__chunk_len_5__f_agg_\"max\"', 'momentum__agg_linear_trend__attr_\"intercept\"__chunk_len_5__f_agg_\"min\"', 'momentum__agg_linear_trend__attr_\"intercept\"__chunk_len_5__f_agg_\"mean\"', 'momentum__agg_linear_trend__attr_\"intercept\"__chunk_len_5__f_agg_\"var\"', 'momentum__agg_linear_trend__attr_\"intercept\"__chunk_len_10__f_agg_\"max\"', 'momentum__agg_linear_trend__attr_\"intercept\"__chunk_len_10__f_agg_\"mean\"', 'momentum__agg_linear_trend__attr_\"intercept\"__chunk_len_10__f_agg_\"var\"', 'momentum__agg_linear_trend__attr_\"intercept\"__chunk_len_50__f_agg_\"max\"', 'momentum__agg_linear_trend__attr_\"intercept\"__chunk_len_50__f_agg_\"min\"', 'momentum__agg_linear_trend__attr_\"intercept\"__chunk_len_50__f_agg_\"mean\"', 'momentum__agg_linear_trend__attr_\"intercept\"__chunk_len_50__f_agg_\"var\"', 'momentum__agg_linear_trend__attr_\"slope\"__chunk_len_5__f_agg_\"var\"', 'momentum__agg_linear_trend__attr_\"slope\"__chunk_len_10__f_agg_\"var\"', 'momentum__agg_linear_trend__attr_\"stderr\"__chunk_len_5__f_agg_\"max\"', 'momentum__agg_linear_trend__attr_\"stderr\"__chunk_len_5__f_agg_\"var\"', 'momentum__agg_linear_trend__attr_\"stderr\"__chunk_len_10__f_agg_\"max\"', 'momentum__agg_linear_trend__attr_\"stderr\"__chunk_len_10__f_agg_\"mean\"', 'momentum__agg_linear_trend__attr_\"stderr\"__chunk_len_10__f_agg_\"var\"', 'momentum__agg_linear_trend__attr_\"stderr\"__chunk_len_50__f_agg_\"max\"', 'momentum__agg_linear_trend__attr_\"stderr\"__chunk_len_50__f_agg_\"mean\"', 'momentum__agg_linear_trend__attr_\"stderr\"__chunk_len_50__f_agg_\"var\"', 'momentum__number_crossing_m__m_1', 'momentum__energy_ratio_by_chunks__num_segments_10__segment_focus_5', 'momentum__lempel_ziv_complexity__bins_2', 'momentum__lempel_ziv_complexity__bins_3', 'momentum__lempel_ziv_complexity__bins_5', 'momentum__lempel_ziv_complexity__bins_10', 'momentum__permutation_entropy__dimension_4__tau_1', 'momentum__permutation_entropy__dimension_5__tau_1', 'momentum__permutation_entropy__dimension_7__tau_1', 'momentum__mean_n_absolute_max__number_of_maxima_7']\n"
          ]
        }
      ]
    },
    {
      "cell_type": "markdown",
      "source": [
        "verileri scale etme , parçalama ve svc eğitimi"
      ],
      "metadata": {
        "id": "nOqdTCKqAVm4"
      }
    },
    {
      "cell_type": "code",
      "source": [
        "sc = StandardScaler()\n",
        "x = df.iloc[:,:-1]\n",
        "y = df.iloc[:,-1:]\n",
        "print(df.shape)\n",
        "x=sc.fit_transform(x)\n",
        "X_train, X_test, y_train, y_test = train_test_split(x,y,test_size=0.3, random_state=0)\n",
        "svc = SVC()\n",
        "svc.fit(X_train,y_train)\n",
        "predict = svc.predict(X_test)\n"
      ],
      "metadata": {
        "colab": {
          "base_uri": "https://localhost:8080/"
        },
        "id": "lHvzF2i3ytdC",
        "outputId": "51ddf3fc-6aa8-4d03-cfdc-c95dbf8ee983"
      },
      "execution_count": 411,
      "outputs": [
        {
          "output_type": "stream",
          "name": "stdout",
          "text": [
            "(260, 92)\n"
          ]
        },
        {
          "output_type": "stream",
          "name": "stderr",
          "text": [
            "/usr/local/lib/python3.10/dist-packages/sklearn/utils/validation.py:1143: DataConversionWarning: A column-vector y was passed when a 1d array was expected. Please change the shape of y to (n_samples, ), for example using ravel().\n",
            "  y = column_or_1d(y, warn=True)\n"
          ]
        }
      ]
    },
    {
      "cell_type": "markdown",
      "source": [
        "svc için sonuçlarımız"
      ],
      "metadata": {
        "id": "FC66eLXtARIc"
      }
    },
    {
      "cell_type": "code",
      "source": [
        "from sklearn.metrics import f1_score,accuracy_score,recall_score,precision_score\n",
        "f1 = f1_score(y_test, predict,average='macro')\n",
        "acc= accuracy_score(y_test, predict)\n",
        "recall = recall_score(y_test, predict,average='weighted')\n",
        "pre = precision_score(y_test, predict,average='macro')\n",
        "print(\"f1\",f1)\n",
        "print(\"acc\",acc)\n",
        "print(\"recall\",recall)\n",
        "print(\"precision\",pre)\n",
        "from joblib import dump\n",
        "nesne = svc\n",
        "dump(nesne, 'svc.joblib')"
      ],
      "metadata": {
        "colab": {
          "base_uri": "https://localhost:8080/"
        },
        "id": "PNbkUe_85taZ",
        "outputId": "4b5650ae-c1a1-442e-fad3-653b8c36ff1f"
      },
      "execution_count": 428,
      "outputs": [
        {
          "output_type": "stream",
          "name": "stdout",
          "text": [
            "f1 0.5679012345679012\n",
            "acc 0.5769230769230769\n",
            "recall 0.5769230769230769\n",
            "precision 0.568648876619891\n"
          ]
        },
        {
          "output_type": "execute_result",
          "data": {
            "text/plain": [
              "['svc.joblib']"
            ]
          },
          "metadata": {},
          "execution_count": 428
        }
      ]
    },
    {
      "cell_type": "markdown",
      "source": [
        "knn eğitimi ve sonuçları"
      ],
      "metadata": {
        "id": "QBBOFzYPCGqx"
      }
    },
    {
      "cell_type": "code",
      "source": [
        "from sklearn.neighbors import KNeighborsClassifier\n",
        "knn = KNeighborsClassifier()\n",
        "knn.fit(X_train,y_train)\n",
        "predict = knn.predict(X_test)\n",
        "\n",
        "f1 = f1_score(y_test, predict,average='macro')\n",
        "acc= accuracy_score(y_test, predict)\n",
        "recall = recall_score(y_test, predict,average='weighted')\n",
        "pre = precision_score(y_test, predict,average='macro')\n",
        "print(\"f1\",f1)\n",
        "print(\"acc\",acc)\n",
        "print(\"recall\",recall)\n",
        "print(\"precision\",pre)\n",
        "\n",
        "from joblib import dump\n",
        "nesne = knn\n",
        "dump(nesne, 'knn.joblib')"
      ],
      "metadata": {
        "colab": {
          "base_uri": "https://localhost:8080/"
        },
        "id": "fO1PN51OBsU7",
        "outputId": "55d806d3-811a-469a-9f20-88b51d7531fa"
      },
      "execution_count": 427,
      "outputs": [
        {
          "output_type": "stream",
          "name": "stdout",
          "text": [
            "f1 0.5679012345679012\n",
            "acc 0.5769230769230769\n",
            "recall 0.5769230769230769\n",
            "precision 0.568648876619891\n"
          ]
        },
        {
          "output_type": "stream",
          "name": "stderr",
          "text": [
            "/usr/local/lib/python3.10/dist-packages/sklearn/neighbors/_classification.py:215: DataConversionWarning: A column-vector y was passed when a 1d array was expected. Please change the shape of y to (n_samples,), for example using ravel().\n",
            "  return self._fit(X, y)\n"
          ]
        },
        {
          "output_type": "execute_result",
          "data": {
            "text/plain": [
              "['knn.joblib']"
            ]
          },
          "metadata": {},
          "execution_count": 427
        }
      ]
    },
    {
      "cell_type": "markdown",
      "source": [
        "Naive Bayes"
      ],
      "metadata": {
        "id": "36GxskswEla8"
      }
    },
    {
      "cell_type": "code",
      "source": [
        "from sklearn.naive_bayes import GaussianNB\n",
        "naive = GaussianNB()\n",
        "naive.fit(X_train,y_train)\n",
        "predict = naive.predict(X_test)\n",
        "\n",
        "f1 = f1_score(y_test, predict,average='macro')\n",
        "acc= accuracy_score(y_test, predict)\n",
        "recall = recall_score(y_test, predict,average='weighted')\n",
        "pre = precision_score(y_test, predict,average='macro')\n",
        "print(\"f1\",f1)\n",
        "print(\"acc\",acc)\n",
        "print(\"recall\",recall)\n",
        "print(\"precision\",pre)\n",
        "\n",
        "nesne = naive\n",
        "dump(nesne, 'naive.joblib')"
      ],
      "metadata": {
        "colab": {
          "base_uri": "https://localhost:8080/"
        },
        "id": "iaQjhSFuCZNf",
        "outputId": "db3c291a-f15d-47db-d39e-a1931296b941"
      },
      "execution_count": 425,
      "outputs": [
        {
          "output_type": "stream",
          "name": "stdout",
          "text": [
            "f1 0.40492361328092885\n",
            "acc 0.46153846153846156\n",
            "recall 0.46153846153846156\n",
            "precision 0.4090909090909091\n"
          ]
        },
        {
          "output_type": "stream",
          "name": "stderr",
          "text": [
            "/usr/local/lib/python3.10/dist-packages/sklearn/utils/validation.py:1143: DataConversionWarning: A column-vector y was passed when a 1d array was expected. Please change the shape of y to (n_samples, ), for example using ravel().\n",
            "  y = column_or_1d(y, warn=True)\n"
          ]
        },
        {
          "output_type": "execute_result",
          "data": {
            "text/plain": [
              "['naive.joblib']"
            ]
          },
          "metadata": {},
          "execution_count": 425
        }
      ]
    },
    {
      "cell_type": "markdown",
      "source": [
        "decision tree"
      ],
      "metadata": {
        "id": "_OMjvMfcC9FY"
      }
    },
    {
      "cell_type": "markdown",
      "source": [
        "Decision Tree Classifier"
      ],
      "metadata": {
        "id": "4eWMVFEPEfR5"
      }
    },
    {
      "cell_type": "code",
      "source": [
        "from sklearn.tree import DecisionTreeClassifier\n",
        "dtc = DecisionTreeClassifier()\n",
        "dtc.fit(X_train,y_train)\n",
        "predict = dtc.predict(X_test)\n",
        "\n",
        "f1 = f1_score(y_test, predict,average='macro')\n",
        "acc= accuracy_score(y_test, predict)\n",
        "recall = recall_score(y_test, predict,average='weighted')\n",
        "pre = precision_score(y_test, predict,average='macro')\n",
        "print(\"f1\",f1)\n",
        "print(\"acc\",acc)\n",
        "print(\"recall\",recall)\n",
        "print(\"precision\",pre)\n",
        "\n",
        "nesne = dtc\n",
        "dump(nesne, 'dtc.joblib')"
      ],
      "metadata": {
        "colab": {
          "base_uri": "https://localhost:8080/"
        },
        "id": "KagfRLxjC_LC",
        "outputId": "d2927081-389b-4bff-e3a5-d41f6ffd35c0"
      },
      "execution_count": 424,
      "outputs": [
        {
          "output_type": "stream",
          "name": "stdout",
          "text": [
            "f1 0.38616080302126815\n",
            "acc 0.3974358974358974\n",
            "recall 0.3974358974358974\n",
            "precision 0.4143692564745196\n"
          ]
        },
        {
          "output_type": "execute_result",
          "data": {
            "text/plain": [
              "['dtc.joblib']"
            ]
          },
          "metadata": {},
          "execution_count": 424
        }
      ]
    },
    {
      "cell_type": "markdown",
      "source": [
        "Random Forest"
      ],
      "metadata": {
        "id": "7fDpCj-OEcZx"
      }
    },
    {
      "cell_type": "code",
      "source": [
        "from sklearn.ensemble import RandomForestClassifier\n",
        "rfc = RandomForestClassifier()\n",
        "rfc.fit(X_train,y_train)\n",
        "predict = rfc.predict(X_test)\n",
        "\n",
        "f1 = f1_score(y_test, predict,average='macro')\n",
        "acc= accuracy_score(y_test, predict)\n",
        "recall = recall_score(y_test, predict,average='weighted')\n",
        "pre = precision_score(y_test, predict,average='macro')\n",
        "print(\"f1\",f1)\n",
        "print(\"acc\",acc)\n",
        "print(\"recall\",recall)\n",
        "print(\"precision\",pre)\n",
        "\n",
        "nesne = rfc\n",
        "dump(nesne, 'rfc.joblib')"
      ],
      "metadata": {
        "colab": {
          "base_uri": "https://localhost:8080/"
        },
        "id": "wunsxyP0D5z1",
        "outputId": "214d704a-4546-45cb-a094-8eaa5dbe1a7d"
      },
      "execution_count": 426,
      "outputs": [
        {
          "output_type": "stream",
          "name": "stderr",
          "text": [
            "<ipython-input-426-7266e28b5073>:3: DataConversionWarning: A column-vector y was passed when a 1d array was expected. Please change the shape of y to (n_samples,), for example using ravel().\n",
            "  rfc.fit(X_train,y_train)\n"
          ]
        },
        {
          "output_type": "stream",
          "name": "stdout",
          "text": [
            "f1 0.6244343891402716\n",
            "acc 0.6410256410256411\n",
            "recall 0.6410256410256411\n",
            "precision 0.6523835641482699\n"
          ]
        },
        {
          "output_type": "execute_result",
          "data": {
            "text/plain": [
              "['rfc.joblib']"
            ]
          },
          "metadata": {},
          "execution_count": 426
        }
      ]
    }
  ]
}